{
 "cells": [
  {
   "cell_type": "code",
   "execution_count": 2,
   "metadata": {},
   "outputs": [],
   "source": [
    "import numpy as np # linear algebra\n",
    "import pandas as pd # data processing, CSV file I/O (e.g. pd.read_csv)\n",
    "import seaborn as sns # for data visualization\n",
    "import matplotlib.pyplot as plt # to plot charts\n",
    "from collections import Counter\n",
    "import os\n",
    "\n",
    "# Modeling\n",
    "from sklearn.preprocessing import QuantileTransformer\n",
    "from sklearn.metrics import confusion_matrix, accuracy_score, precision_score\n",
    "from sklearn.ensemble import RandomForestClassifier, AdaBoostClassifier, GradientBoostingClassifier, VotingClassifier\n",
    "from sklearn.linear_model import LogisticRegression\n",
    "from sklearn.neighbors import KNeighborsClassifier\n",
    "from sklearn.tree import DecisionTreeClassifier\n",
    "from sklearn.svm import SVC\n",
    "from sklearn.model_selection import GridSearchCV, cross_val_score, StratifiedKFold, learning_curve, train_test_split"
   ]
  },
  {
   "cell_type": "code",
   "execution_count": 3,
   "metadata": {},
   "outputs": [
    {
     "data": {
      "text/html": [
       "<div>\n",
       "<style scoped>\n",
       "    .dataframe tbody tr th:only-of-type {\n",
       "        vertical-align: middle;\n",
       "    }\n",
       "\n",
       "    .dataframe tbody tr th {\n",
       "        vertical-align: top;\n",
       "    }\n",
       "\n",
       "    .dataframe thead th {\n",
       "        text-align: right;\n",
       "    }\n",
       "</style>\n",
       "<table border=\"1\" class=\"dataframe\">\n",
       "  <thead>\n",
       "    <tr style=\"text-align: right;\">\n",
       "      <th></th>\n",
       "      <th>Pregnancies</th>\n",
       "      <th>Glucose</th>\n",
       "      <th>BloodPressure</th>\n",
       "      <th>SkinThickness</th>\n",
       "      <th>Insulin</th>\n",
       "      <th>BMI</th>\n",
       "      <th>DiabetesPedigreeFunction</th>\n",
       "      <th>Age</th>\n",
       "      <th>Outcome</th>\n",
       "    </tr>\n",
       "  </thead>\n",
       "  <tbody>\n",
       "    <tr>\n",
       "      <th>0</th>\n",
       "      <td>6</td>\n",
       "      <td>148</td>\n",
       "      <td>72</td>\n",
       "      <td>35</td>\n",
       "      <td>0</td>\n",
       "      <td>33.6</td>\n",
       "      <td>0.627</td>\n",
       "      <td>50</td>\n",
       "      <td>1</td>\n",
       "    </tr>\n",
       "    <tr>\n",
       "      <th>1</th>\n",
       "      <td>1</td>\n",
       "      <td>85</td>\n",
       "      <td>66</td>\n",
       "      <td>29</td>\n",
       "      <td>0</td>\n",
       "      <td>26.6</td>\n",
       "      <td>0.351</td>\n",
       "      <td>31</td>\n",
       "      <td>0</td>\n",
       "    </tr>\n",
       "    <tr>\n",
       "      <th>2</th>\n",
       "      <td>8</td>\n",
       "      <td>183</td>\n",
       "      <td>64</td>\n",
       "      <td>0</td>\n",
       "      <td>0</td>\n",
       "      <td>23.3</td>\n",
       "      <td>0.672</td>\n",
       "      <td>32</td>\n",
       "      <td>1</td>\n",
       "    </tr>\n",
       "    <tr>\n",
       "      <th>3</th>\n",
       "      <td>1</td>\n",
       "      <td>89</td>\n",
       "      <td>66</td>\n",
       "      <td>23</td>\n",
       "      <td>94</td>\n",
       "      <td>28.1</td>\n",
       "      <td>0.167</td>\n",
       "      <td>21</td>\n",
       "      <td>0</td>\n",
       "    </tr>\n",
       "    <tr>\n",
       "      <th>4</th>\n",
       "      <td>0</td>\n",
       "      <td>137</td>\n",
       "      <td>40</td>\n",
       "      <td>35</td>\n",
       "      <td>168</td>\n",
       "      <td>43.1</td>\n",
       "      <td>2.288</td>\n",
       "      <td>33</td>\n",
       "      <td>1</td>\n",
       "    </tr>\n",
       "  </tbody>\n",
       "</table>\n",
       "</div>"
      ],
      "text/plain": [
       "   Pregnancies  Glucose  BloodPressure  SkinThickness  Insulin   BMI  \\\n",
       "0            6      148             72             35        0  33.6   \n",
       "1            1       85             66             29        0  26.6   \n",
       "2            8      183             64              0        0  23.3   \n",
       "3            1       89             66             23       94  28.1   \n",
       "4            0      137             40             35      168  43.1   \n",
       "\n",
       "   DiabetesPedigreeFunction  Age  Outcome  \n",
       "0                     0.627   50        1  \n",
       "1                     0.351   31        0  \n",
       "2                     0.672   32        1  \n",
       "3                     0.167   21        0  \n",
       "4                     2.288   33        1  "
      ]
     },
     "execution_count": 3,
     "metadata": {},
     "output_type": "execute_result"
    }
   ],
   "source": [
    "df = pd.read_csv(\"diabetes.csv\")\n",
    "df.head()"
   ]
  },
  {
   "cell_type": "code",
   "execution_count": 4,
   "metadata": {},
   "outputs": [
    {
     "name": "stdout",
     "output_type": "stream",
     "text": [
      "<class 'pandas.core.frame.DataFrame'>\n",
      "RangeIndex: 768 entries, 0 to 767\n",
      "Data columns (total 9 columns):\n",
      " #   Column                    Non-Null Count  Dtype  \n",
      "---  ------                    --------------  -----  \n",
      " 0   Pregnancies               768 non-null    int64  \n",
      " 1   Glucose                   768 non-null    int64  \n",
      " 2   BloodPressure             768 non-null    int64  \n",
      " 3   SkinThickness             768 non-null    int64  \n",
      " 4   Insulin                   768 non-null    int64  \n",
      " 5   BMI                       768 non-null    float64\n",
      " 6   DiabetesPedigreeFunction  768 non-null    float64\n",
      " 7   Age                       768 non-null    int64  \n",
      " 8   Outcome                   768 non-null    int64  \n",
      "dtypes: float64(2), int64(7)\n",
      "memory usage: 54.1 KB\n"
     ]
    }
   ],
   "source": [
    "df.info()"
   ]
  },
  {
   "cell_type": "code",
   "execution_count": 5,
   "metadata": {},
   "outputs": [
    {
     "data": {
      "text/html": [
       "<div>\n",
       "<style scoped>\n",
       "    .dataframe tbody tr th:only-of-type {\n",
       "        vertical-align: middle;\n",
       "    }\n",
       "\n",
       "    .dataframe tbody tr th {\n",
       "        vertical-align: top;\n",
       "    }\n",
       "\n",
       "    .dataframe thead th {\n",
       "        text-align: right;\n",
       "    }\n",
       "</style>\n",
       "<table border=\"1\" class=\"dataframe\">\n",
       "  <thead>\n",
       "    <tr style=\"text-align: right;\">\n",
       "      <th></th>\n",
       "      <th>Pregnancies</th>\n",
       "      <th>Glucose</th>\n",
       "      <th>BloodPressure</th>\n",
       "      <th>SkinThickness</th>\n",
       "      <th>Insulin</th>\n",
       "      <th>BMI</th>\n",
       "      <th>DiabetesPedigreeFunction</th>\n",
       "      <th>Age</th>\n",
       "      <th>Outcome</th>\n",
       "    </tr>\n",
       "  </thead>\n",
       "  <tbody>\n",
       "    <tr>\n",
       "      <th>count</th>\n",
       "      <td>768.000000</td>\n",
       "      <td>768.000000</td>\n",
       "      <td>768.000000</td>\n",
       "      <td>768.000000</td>\n",
       "      <td>768.000000</td>\n",
       "      <td>768.000000</td>\n",
       "      <td>768.000000</td>\n",
       "      <td>768.000000</td>\n",
       "      <td>768.000000</td>\n",
       "    </tr>\n",
       "    <tr>\n",
       "      <th>mean</th>\n",
       "      <td>3.845052</td>\n",
       "      <td>120.894531</td>\n",
       "      <td>69.105469</td>\n",
       "      <td>20.536458</td>\n",
       "      <td>79.799479</td>\n",
       "      <td>31.992578</td>\n",
       "      <td>0.471876</td>\n",
       "      <td>33.240885</td>\n",
       "      <td>0.348958</td>\n",
       "    </tr>\n",
       "    <tr>\n",
       "      <th>std</th>\n",
       "      <td>3.369578</td>\n",
       "      <td>31.972618</td>\n",
       "      <td>19.355807</td>\n",
       "      <td>15.952218</td>\n",
       "      <td>115.244002</td>\n",
       "      <td>7.884160</td>\n",
       "      <td>0.331329</td>\n",
       "      <td>11.760232</td>\n",
       "      <td>0.476951</td>\n",
       "    </tr>\n",
       "    <tr>\n",
       "      <th>min</th>\n",
       "      <td>0.000000</td>\n",
       "      <td>0.000000</td>\n",
       "      <td>0.000000</td>\n",
       "      <td>0.000000</td>\n",
       "      <td>0.000000</td>\n",
       "      <td>0.000000</td>\n",
       "      <td>0.078000</td>\n",
       "      <td>21.000000</td>\n",
       "      <td>0.000000</td>\n",
       "    </tr>\n",
       "    <tr>\n",
       "      <th>25%</th>\n",
       "      <td>1.000000</td>\n",
       "      <td>99.000000</td>\n",
       "      <td>62.000000</td>\n",
       "      <td>0.000000</td>\n",
       "      <td>0.000000</td>\n",
       "      <td>27.300000</td>\n",
       "      <td>0.243750</td>\n",
       "      <td>24.000000</td>\n",
       "      <td>0.000000</td>\n",
       "    </tr>\n",
       "    <tr>\n",
       "      <th>50%</th>\n",
       "      <td>3.000000</td>\n",
       "      <td>117.000000</td>\n",
       "      <td>72.000000</td>\n",
       "      <td>23.000000</td>\n",
       "      <td>30.500000</td>\n",
       "      <td>32.000000</td>\n",
       "      <td>0.372500</td>\n",
       "      <td>29.000000</td>\n",
       "      <td>0.000000</td>\n",
       "    </tr>\n",
       "    <tr>\n",
       "      <th>75%</th>\n",
       "      <td>6.000000</td>\n",
       "      <td>140.250000</td>\n",
       "      <td>80.000000</td>\n",
       "      <td>32.000000</td>\n",
       "      <td>127.250000</td>\n",
       "      <td>36.600000</td>\n",
       "      <td>0.626250</td>\n",
       "      <td>41.000000</td>\n",
       "      <td>1.000000</td>\n",
       "    </tr>\n",
       "    <tr>\n",
       "      <th>max</th>\n",
       "      <td>17.000000</td>\n",
       "      <td>199.000000</td>\n",
       "      <td>122.000000</td>\n",
       "      <td>99.000000</td>\n",
       "      <td>846.000000</td>\n",
       "      <td>67.100000</td>\n",
       "      <td>2.420000</td>\n",
       "      <td>81.000000</td>\n",
       "      <td>1.000000</td>\n",
       "    </tr>\n",
       "  </tbody>\n",
       "</table>\n",
       "</div>"
      ],
      "text/plain": [
       "       Pregnancies     Glucose  BloodPressure  SkinThickness     Insulin  \\\n",
       "count   768.000000  768.000000     768.000000     768.000000  768.000000   \n",
       "mean      3.845052  120.894531      69.105469      20.536458   79.799479   \n",
       "std       3.369578   31.972618      19.355807      15.952218  115.244002   \n",
       "min       0.000000    0.000000       0.000000       0.000000    0.000000   \n",
       "25%       1.000000   99.000000      62.000000       0.000000    0.000000   \n",
       "50%       3.000000  117.000000      72.000000      23.000000   30.500000   \n",
       "75%       6.000000  140.250000      80.000000      32.000000  127.250000   \n",
       "max      17.000000  199.000000     122.000000      99.000000  846.000000   \n",
       "\n",
       "              BMI  DiabetesPedigreeFunction         Age     Outcome  \n",
       "count  768.000000                768.000000  768.000000  768.000000  \n",
       "mean    31.992578                  0.471876   33.240885    0.348958  \n",
       "std      7.884160                  0.331329   11.760232    0.476951  \n",
       "min      0.000000                  0.078000   21.000000    0.000000  \n",
       "25%     27.300000                  0.243750   24.000000    0.000000  \n",
       "50%     32.000000                  0.372500   29.000000    0.000000  \n",
       "75%     36.600000                  0.626250   41.000000    1.000000  \n",
       "max     67.100000                  2.420000   81.000000    1.000000  "
      ]
     },
     "execution_count": 5,
     "metadata": {},
     "output_type": "execute_result"
    }
   ],
   "source": [
    "df.describe()"
   ]
  },
  {
   "cell_type": "code",
   "execution_count": 6,
   "metadata": {},
   "outputs": [
    {
     "data": {
      "text/plain": [
       "Pregnancies                 0\n",
       "Glucose                     0\n",
       "BloodPressure               0\n",
       "SkinThickness               0\n",
       "Insulin                     0\n",
       "BMI                         0\n",
       "DiabetesPedigreeFunction    0\n",
       "Age                         0\n",
       "Outcome                     0\n",
       "dtype: int64"
      ]
     },
     "execution_count": 6,
     "metadata": {},
     "output_type": "execute_result"
    }
   ],
   "source": [
    "df.isnull().sum()"
   ]
  },
  {
   "cell_type": "code",
   "execution_count": 7,
   "metadata": {},
   "outputs": [
    {
     "data": {
      "text/plain": [
       "99.0     17\n",
       "100.0    17\n",
       "111.0    14\n",
       "106.0    14\n",
       "125.0    14\n",
       "         ..\n",
       "61.0      1\n",
       "190.0     1\n",
       "169.0     1\n",
       "172.0     1\n",
       "56.0      1\n",
       "Name: Glucose, Length: 136, dtype: int64"
      ]
     },
     "execution_count": 7,
     "metadata": {},
     "output_type": "execute_result"
    }
   ],
   "source": [
    "df['Glucose'] = df['Glucose'].replace(0,df['Glucose'].mean())\n",
    "df.Glucose.value_counts()"
   ]
  },
  {
   "cell_type": "code",
   "execution_count": 8,
   "metadata": {},
   "outputs": [],
   "source": [
    "df[df['BloodPressure'] == 0]['BloodPressure'].value_counts()\n",
    "df['BloodPressure'] = df['BloodPressure'].replace(0,df['BloodPressure'].mean())"
   ]
  },
  {
   "cell_type": "code",
   "execution_count": 9,
   "metadata": {},
   "outputs": [],
   "source": [
    "df[df['BMI'] == 0]['BMI'].value_counts()\n",
    "df['BMI'] = df['BMI'].replace(0, df['BMI'].median())"
   ]
  },
  {
   "cell_type": "code",
   "execution_count": 10,
   "metadata": {},
   "outputs": [],
   "source": [
    "df['SkinThickness'] = df['SkinThickness'].replace(0, df['SkinThickness'].median())\n",
    "df['Insulin'] = df['Insulin'].replace(0, df['Insulin'].median())"
   ]
  },
  {
   "cell_type": "code",
   "execution_count": 11,
   "metadata": {},
   "outputs": [
    {
     "data": {
      "text/html": [
       "<div>\n",
       "<style scoped>\n",
       "    .dataframe tbody tr th:only-of-type {\n",
       "        vertical-align: middle;\n",
       "    }\n",
       "\n",
       "    .dataframe tbody tr th {\n",
       "        vertical-align: top;\n",
       "    }\n",
       "\n",
       "    .dataframe thead th {\n",
       "        text-align: right;\n",
       "    }\n",
       "</style>\n",
       "<table border=\"1\" class=\"dataframe\">\n",
       "  <thead>\n",
       "    <tr style=\"text-align: right;\">\n",
       "      <th></th>\n",
       "      <th>Pregnancies</th>\n",
       "      <th>Glucose</th>\n",
       "      <th>BloodPressure</th>\n",
       "      <th>SkinThickness</th>\n",
       "      <th>Insulin</th>\n",
       "      <th>BMI</th>\n",
       "      <th>DiabetesPedigreeFunction</th>\n",
       "      <th>Age</th>\n",
       "      <th>Outcome</th>\n",
       "    </tr>\n",
       "  </thead>\n",
       "  <tbody>\n",
       "    <tr>\n",
       "      <th>count</th>\n",
       "      <td>768.000000</td>\n",
       "      <td>768.000000</td>\n",
       "      <td>768.000000</td>\n",
       "      <td>768.000000</td>\n",
       "      <td>768.000000</td>\n",
       "      <td>768.000000</td>\n",
       "      <td>768.000000</td>\n",
       "      <td>768.000000</td>\n",
       "      <td>768.000000</td>\n",
       "    </tr>\n",
       "    <tr>\n",
       "      <th>mean</th>\n",
       "      <td>3.845052</td>\n",
       "      <td>121.681605</td>\n",
       "      <td>72.254807</td>\n",
       "      <td>27.334635</td>\n",
       "      <td>94.652344</td>\n",
       "      <td>32.450911</td>\n",
       "      <td>0.471876</td>\n",
       "      <td>33.240885</td>\n",
       "      <td>0.348958</td>\n",
       "    </tr>\n",
       "    <tr>\n",
       "      <th>std</th>\n",
       "      <td>3.369578</td>\n",
       "      <td>30.436016</td>\n",
       "      <td>12.115932</td>\n",
       "      <td>9.229014</td>\n",
       "      <td>105.547598</td>\n",
       "      <td>6.875366</td>\n",
       "      <td>0.331329</td>\n",
       "      <td>11.760232</td>\n",
       "      <td>0.476951</td>\n",
       "    </tr>\n",
       "    <tr>\n",
       "      <th>min</th>\n",
       "      <td>0.000000</td>\n",
       "      <td>44.000000</td>\n",
       "      <td>24.000000</td>\n",
       "      <td>7.000000</td>\n",
       "      <td>14.000000</td>\n",
       "      <td>18.200000</td>\n",
       "      <td>0.078000</td>\n",
       "      <td>21.000000</td>\n",
       "      <td>0.000000</td>\n",
       "    </tr>\n",
       "    <tr>\n",
       "      <th>25%</th>\n",
       "      <td>1.000000</td>\n",
       "      <td>99.750000</td>\n",
       "      <td>64.000000</td>\n",
       "      <td>23.000000</td>\n",
       "      <td>30.500000</td>\n",
       "      <td>27.500000</td>\n",
       "      <td>0.243750</td>\n",
       "      <td>24.000000</td>\n",
       "      <td>0.000000</td>\n",
       "    </tr>\n",
       "    <tr>\n",
       "      <th>50%</th>\n",
       "      <td>3.000000</td>\n",
       "      <td>117.000000</td>\n",
       "      <td>72.000000</td>\n",
       "      <td>23.000000</td>\n",
       "      <td>31.250000</td>\n",
       "      <td>32.000000</td>\n",
       "      <td>0.372500</td>\n",
       "      <td>29.000000</td>\n",
       "      <td>0.000000</td>\n",
       "    </tr>\n",
       "    <tr>\n",
       "      <th>75%</th>\n",
       "      <td>6.000000</td>\n",
       "      <td>140.250000</td>\n",
       "      <td>80.000000</td>\n",
       "      <td>32.000000</td>\n",
       "      <td>127.250000</td>\n",
       "      <td>36.600000</td>\n",
       "      <td>0.626250</td>\n",
       "      <td>41.000000</td>\n",
       "      <td>1.000000</td>\n",
       "    </tr>\n",
       "    <tr>\n",
       "      <th>max</th>\n",
       "      <td>17.000000</td>\n",
       "      <td>199.000000</td>\n",
       "      <td>122.000000</td>\n",
       "      <td>99.000000</td>\n",
       "      <td>846.000000</td>\n",
       "      <td>67.100000</td>\n",
       "      <td>2.420000</td>\n",
       "      <td>81.000000</td>\n",
       "      <td>1.000000</td>\n",
       "    </tr>\n",
       "  </tbody>\n",
       "</table>\n",
       "</div>"
      ],
      "text/plain": [
       "       Pregnancies     Glucose  BloodPressure  SkinThickness     Insulin  \\\n",
       "count   768.000000  768.000000     768.000000     768.000000  768.000000   \n",
       "mean      3.845052  121.681605      72.254807      27.334635   94.652344   \n",
       "std       3.369578   30.436016      12.115932       9.229014  105.547598   \n",
       "min       0.000000   44.000000      24.000000       7.000000   14.000000   \n",
       "25%       1.000000   99.750000      64.000000      23.000000   30.500000   \n",
       "50%       3.000000  117.000000      72.000000      23.000000   31.250000   \n",
       "75%       6.000000  140.250000      80.000000      32.000000  127.250000   \n",
       "max      17.000000  199.000000     122.000000      99.000000  846.000000   \n",
       "\n",
       "              BMI  DiabetesPedigreeFunction         Age     Outcome  \n",
       "count  768.000000                768.000000  768.000000  768.000000  \n",
       "mean    32.450911                  0.471876   33.240885    0.348958  \n",
       "std      6.875366                  0.331329   11.760232    0.476951  \n",
       "min     18.200000                  0.078000   21.000000    0.000000  \n",
       "25%     27.500000                  0.243750   24.000000    0.000000  \n",
       "50%     32.000000                  0.372500   29.000000    0.000000  \n",
       "75%     36.600000                  0.626250   41.000000    1.000000  \n",
       "max     67.100000                  2.420000   81.000000    1.000000  "
      ]
     },
     "execution_count": 11,
     "metadata": {},
     "output_type": "execute_result"
    }
   ],
   "source": [
    "df.describe()"
   ]
  },
  {
   "cell_type": "code",
   "execution_count": 12,
   "metadata": {},
   "outputs": [
    {
     "data": {
      "text/plain": [
       "<AxesSubplot:>"
      ]
     },
     "execution_count": 12,
     "metadata": {},
     "output_type": "execute_result"
    },
    {
     "data": {
      "image/png": "[encoded data removed]",
      "text/plain": [
       "<Figure size 720x720 with 2 Axes>"
      ]
     },
     "metadata": {
      "needs_background": "light"
     },
     "output_type": "display_data"
    }
   ],
   "source": [
    "plt.figure(figsize=(10,10))\n",
    "sns.heatmap(df.corr(), annot=True, fmt='.2f')"
   ]
  },
  {
   "cell_type": "code",
   "execution_count": 13,
   "metadata": {},
   "outputs": [
    {
     "data": {
      "text/plain": [
       "<matplotlib.legend.Legend at 0x227cf1ddb50>"
      ]
     },
     "execution_count": 13,
     "metadata": {},
     "output_type": "execute_result"
    },
    {
     "data": {
      "image/png": "[encoded data removed]",
      "text/plain": [
       "<Figure size 936x432 with 1 Axes>"
      ]
     },
     "metadata": {
      "needs_background": "light"
     },
     "output_type": "display_data"
    }
   ],
   "source": [
    "plt.figure(figsize=(13,6))\n",
    "g = sns.kdeplot(df[\"Pregnancies\"][df[\"Outcome\"] == 1], color=\"Red\", shade = True)\n",
    "g = sns.kdeplot(df[\"Pregnancies\"][df[\"Outcome\"] == 0], ax =g, color=\"Green\", shade= True)\n",
    "g.set_xlabel(\"Pregnancies\")\n",
    "g.set_ylabel(\"Frequency\")\n",
    "g.legend([\"Positive\",\"Negative\"])"
   ]
  },
  {
   "cell_type": "code",
   "execution_count": 14,
   "metadata": {},
   "outputs": [
    {
     "name": "stderr",
     "output_type": "stream",
     "text": [
      "c:\\Users\\HP\\anaconda3\\lib\\site-packages\\seaborn\\_decorators.py:36: FutureWarning: Pass the following variable as a keyword arg: x. From version 0.12, the only valid positional argument will be `data`, and passing other arguments without an explicit keyword will result in an error or misinterpretation.\n",
      "  warnings.warn(\n"
     ]
    },
    {
     "data": {
      "text/plain": [
       "<AxesSubplot:xlabel='Outcome', ylabel='count'>"
      ]
     },
     "execution_count": 14,
     "metadata": {},
     "output_type": "execute_result"
    },
    {
     "data": {
      "image/png": "[encoded data removed]",
      "text/plain": [
       "<Figure size 432x288 with 1 Axes>"
      ]
     },
     "metadata": {
      "needs_background": "light"
     },
     "output_type": "display_data"
    }
   ],
   "source": [
    "sns.countplot('Outcome',data=df)"
   ]
  },
  {
   "cell_type": "code",
   "execution_count": 15,
   "metadata": {},
   "outputs": [
    {
     "data": {
      "text/html": [
       "<div>\n",
       "<style scoped>\n",
       "    .dataframe tbody tr th:only-of-type {\n",
       "        vertical-align: middle;\n",
       "    }\n",
       "\n",
       "    .dataframe tbody tr th {\n",
       "        vertical-align: top;\n",
       "    }\n",
       "\n",
       "    .dataframe thead th {\n",
       "        text-align: right;\n",
       "    }\n",
       "</style>\n",
       "<table border=\"1\" class=\"dataframe\">\n",
       "  <thead>\n",
       "    <tr style=\"text-align: right;\">\n",
       "      <th></th>\n",
       "      <th>Pregnancies</th>\n",
       "      <th>Glucose</th>\n",
       "      <th>BloodPressure</th>\n",
       "      <th>SkinThickness</th>\n",
       "      <th>Insulin</th>\n",
       "      <th>BMI</th>\n",
       "      <th>DiabetesPedigreeFunction</th>\n",
       "      <th>Age</th>\n",
       "      <th>Outcome</th>\n",
       "    </tr>\n",
       "  </thead>\n",
       "  <tbody>\n",
       "    <tr>\n",
       "      <th>0</th>\n",
       "      <td>6</td>\n",
       "      <td>148.0</td>\n",
       "      <td>72.0</td>\n",
       "      <td>35</td>\n",
       "      <td>30.5</td>\n",
       "      <td>33.6</td>\n",
       "      <td>0.627</td>\n",
       "      <td>50</td>\n",
       "      <td>1</td>\n",
       "    </tr>\n",
       "    <tr>\n",
       "      <th>1</th>\n",
       "      <td>1</td>\n",
       "      <td>85.0</td>\n",
       "      <td>66.0</td>\n",
       "      <td>29</td>\n",
       "      <td>30.5</td>\n",
       "      <td>26.6</td>\n",
       "      <td>0.351</td>\n",
       "      <td>31</td>\n",
       "      <td>0</td>\n",
       "    </tr>\n",
       "    <tr>\n",
       "      <th>2</th>\n",
       "      <td>8</td>\n",
       "      <td>183.0</td>\n",
       "      <td>64.0</td>\n",
       "      <td>23</td>\n",
       "      <td>30.5</td>\n",
       "      <td>23.3</td>\n",
       "      <td>0.672</td>\n",
       "      <td>32</td>\n",
       "      <td>1</td>\n",
       "    </tr>\n",
       "    <tr>\n",
       "      <th>3</th>\n",
       "      <td>1</td>\n",
       "      <td>89.0</td>\n",
       "      <td>66.0</td>\n",
       "      <td>23</td>\n",
       "      <td>94.0</td>\n",
       "      <td>28.1</td>\n",
       "      <td>0.167</td>\n",
       "      <td>21</td>\n",
       "      <td>0</td>\n",
       "    </tr>\n",
       "    <tr>\n",
       "      <th>4</th>\n",
       "      <td>0</td>\n",
       "      <td>137.0</td>\n",
       "      <td>40.0</td>\n",
       "      <td>35</td>\n",
       "      <td>168.0</td>\n",
       "      <td>43.1</td>\n",
       "      <td>2.288</td>\n",
       "      <td>33</td>\n",
       "      <td>1</td>\n",
       "    </tr>\n",
       "    <tr>\n",
       "      <th>...</th>\n",
       "      <td>...</td>\n",
       "      <td>...</td>\n",
       "      <td>...</td>\n",
       "      <td>...</td>\n",
       "      <td>...</td>\n",
       "      <td>...</td>\n",
       "      <td>...</td>\n",
       "      <td>...</td>\n",
       "      <td>...</td>\n",
       "    </tr>\n",
       "    <tr>\n",
       "      <th>763</th>\n",
       "      <td>10</td>\n",
       "      <td>101.0</td>\n",
       "      <td>76.0</td>\n",
       "      <td>48</td>\n",
       "      <td>180.0</td>\n",
       "      <td>32.9</td>\n",
       "      <td>0.171</td>\n",
       "      <td>63</td>\n",
       "      <td>0</td>\n",
       "    </tr>\n",
       "    <tr>\n",
       "      <th>764</th>\n",
       "      <td>2</td>\n",
       "      <td>122.0</td>\n",
       "      <td>70.0</td>\n",
       "      <td>27</td>\n",
       "      <td>30.5</td>\n",
       "      <td>36.8</td>\n",
       "      <td>0.340</td>\n",
       "      <td>27</td>\n",
       "      <td>0</td>\n",
       "    </tr>\n",
       "    <tr>\n",
       "      <th>765</th>\n",
       "      <td>5</td>\n",
       "      <td>121.0</td>\n",
       "      <td>72.0</td>\n",
       "      <td>23</td>\n",
       "      <td>112.0</td>\n",
       "      <td>26.2</td>\n",
       "      <td>0.245</td>\n",
       "      <td>30</td>\n",
       "      <td>0</td>\n",
       "    </tr>\n",
       "    <tr>\n",
       "      <th>766</th>\n",
       "      <td>1</td>\n",
       "      <td>126.0</td>\n",
       "      <td>60.0</td>\n",
       "      <td>23</td>\n",
       "      <td>30.5</td>\n",
       "      <td>30.1</td>\n",
       "      <td>0.349</td>\n",
       "      <td>47</td>\n",
       "      <td>1</td>\n",
       "    </tr>\n",
       "    <tr>\n",
       "      <th>767</th>\n",
       "      <td>1</td>\n",
       "      <td>93.0</td>\n",
       "      <td>70.0</td>\n",
       "      <td>31</td>\n",
       "      <td>30.5</td>\n",
       "      <td>30.4</td>\n",
       "      <td>0.315</td>\n",
       "      <td>23</td>\n",
       "      <td>0</td>\n",
       "    </tr>\n",
       "  </tbody>\n",
       "</table>\n",
       "<p>768 rows × 9 columns</p>\n",
       "</div>"
      ],
      "text/plain": [
       "     Pregnancies  Glucose  BloodPressure  SkinThickness  Insulin   BMI  \\\n",
       "0              6    148.0           72.0             35     30.5  33.6   \n",
       "1              1     85.0           66.0             29     30.5  26.6   \n",
       "2              8    183.0           64.0             23     30.5  23.3   \n",
       "3              1     89.0           66.0             23     94.0  28.1   \n",
       "4              0    137.0           40.0             35    168.0  43.1   \n",
       "..           ...      ...            ...            ...      ...   ...   \n",
       "763           10    101.0           76.0             48    180.0  32.9   \n",
       "764            2    122.0           70.0             27     30.5  36.8   \n",
       "765            5    121.0           72.0             23    112.0  26.2   \n",
       "766            1    126.0           60.0             23     30.5  30.1   \n",
       "767            1     93.0           70.0             31     30.5  30.4   \n",
       "\n",
       "     DiabetesPedigreeFunction  Age  Outcome  \n",
       "0                       0.627   50        1  \n",
       "1                       0.351   31        0  \n",
       "2                       0.672   32        1  \n",
       "3                       0.167   21        0  \n",
       "4                       2.288   33        1  \n",
       "..                        ...  ...      ...  \n",
       "763                     0.171   63        0  \n",
       "764                     0.340   27        0  \n",
       "765                     0.245   30        0  \n",
       "766                     0.349   47        1  \n",
       "767                     0.315   23        0  \n",
       "\n",
       "[768 rows x 9 columns]"
      ]
     },
     "execution_count": 15,
     "metadata": {},
     "output_type": "execute_result"
    }
   ],
   "source": [
    "df"
   ]
  },
  {
   "cell_type": "code",
   "execution_count": 16,
   "metadata": {},
   "outputs": [
    {
     "data": {
      "text/plain": [
       "<AxesSubplot:xlabel='Outcome', ylabel='Glucose'>"
      ]
     },
     "execution_count": 16,
     "metadata": {},
     "output_type": "execute_result"
    },
    {
     "data": {
      "image/png": "[encoded data removed]",
      "text/plain": [
       "<Figure size 720x432 with 1 Axes>"
      ]
     },
     "metadata": {
      "needs_background": "light"
     },
     "output_type": "display_data"
    }
   ],
   "source": [
    "plt.figure(figsize=(10,6))\n",
    "sns.violinplot(data=df, x=\"Outcome\", y=\"Glucose\",\n",
    "               split=True, inner=\"quart\", linewidth=1)"
   ]
  },
  {
   "cell_type": "code",
   "execution_count": 17,
   "metadata": {},
   "outputs": [
    {
     "data": {
      "text/plain": [
       "<matplotlib.legend.Legend at 0x227cf04b3d0>"
      ]
     },
     "execution_count": 17,
     "metadata": {},
     "output_type": "execute_result"
    },
    {
     "data": {
      "image/png": "[encoded data removed]",
      "text/plain": [
       "<Figure size 936x432 with 1 Axes>"
      ]
     },
     "metadata": {
      "needs_background": "light"
     },
     "output_type": "display_data"
    }
   ],
   "source": [
    "plt.figure(figsize=(13,6))\n",
    "g = sns.kdeplot(df[\"Glucose\"][df[\"Outcome\"] == 1], color=\"Red\", shade = True)\n",
    "g = sns.kdeplot(df[\"Glucose\"][df[\"Outcome\"] == 0], ax =g, color=\"Green\", shade= True)\n",
    "g.set_xlabel(\"Glucose\")\n",
    "g.set_ylabel(\"Frequency\")\n",
    "g.legend([\"Positive\",\"Negative\"])"
   ]
  },
  {
   "cell_type": "code",
   "execution_count": 18,
   "metadata": {},
   "outputs": [
    {
     "data": {
      "text/plain": [
       "<AxesSubplot:xlabel='Glucose', ylabel='BMI'>"
      ]
     },
     "execution_count": 18,
     "metadata": {},
     "output_type": "execute_result"
    },
    {
     "data": {
      "image/png": "[encoded data removed]",
      "text/plain": [
       "<Figure size 1440x720 with 1 Axes>"
      ]
     },
     "metadata": {
      "needs_background": "light"
     },
     "output_type": "display_data"
    }
   ],
   "source": [
    "plt.figure(figsize=(20,10))\n",
    "sns.scatterplot(data=df, x=\"Glucose\", y=\"BMI\", hue=\"Age\", size=\"Age\")"
   ]
  },
  {
   "cell_type": "code",
   "execution_count": 19,
   "metadata": {},
   "outputs": [
    {
     "data": {
      "text/plain": [
       "<seaborn.axisgrid.FacetGrid at 0x227cf07e280>"
      ]
     },
     "execution_count": 19,
     "metadata": {},
     "output_type": "execute_result"
    },
    {
     "data": {
      "image/png": "[encoded data removed]",
      "text/plain": [
       "<Figure size 360x360 with 1 Axes>"
      ]
     },
     "metadata": {
      "needs_background": "light"
     },
     "output_type": "display_data"
    }
   ],
   "source": [
    "g = sns.catplot(y=\"BloodPressure\",x=\"Outcome\",data=df,kind=\"box\")\n",
    "g.set_ylabels(\"Blood Pressure\")\n",
    "g.set_xlabels(\"Outcome\")"
   ]
  },
  {
   "cell_type": "code",
   "execution_count": 20,
   "metadata": {},
   "outputs": [
    {
     "data": {
      "text/plain": [
       "<seaborn.axisgrid.FacetGrid at 0x227cf036220>"
      ]
     },
     "execution_count": 20,
     "metadata": {},
     "output_type": "execute_result"
    },
    {
     "data": {
      "image/png": "[encoded data removed]",
      "text/plain": [
       "<Figure size 360x360 with 1 Axes>"
      ]
     },
     "metadata": {
      "needs_background": "light"
     },
     "output_type": "display_data"
    }
   ],
   "source": [
    "g = sns.catplot(y=\"Age\",x=\"Outcome\",data=df,kind=\"box\")\n",
    "g.set_ylabels(\"Age\")\n",
    "g.set_xlabels(\"Outcome\")"
   ]
  },
  {
   "cell_type": "code",
   "execution_count": 21,
   "metadata": {},
   "outputs": [
    {
     "data": {
      "text/plain": [
       "<seaborn.axisgrid.FacetGrid at 0x227cf036220>"
      ]
     },
     "execution_count": 21,
     "metadata": {},
     "output_type": "execute_result"
    },
    {
     "data": {
      "image/png": "[encoded data removed]",
      "text/plain": [
       "<Figure size 504x360 with 1 Axes>"
      ]
     },
     "metadata": {},
     "output_type": "display_data"
    }
   ],
   "source": [
    "sns.set_theme(style=\"whitegrid\")\n",
    "plt.figure(figsize=(7,5))\n",
    "\n",
    "sns.boxenplot(x=\"Outcome\", y=\"DiabetesPedigreeFunction\",\n",
    "              color=\"b\", \n",
    "              scale=\"linear\", data=df)\n",
    "g.set_ylabels(\"Diabetes Pedigree Function\")\n",
    "g.set_xlabels(\"Outcome\")"
   ]
  },
  {
   "cell_type": "code",
   "execution_count": 22,
   "metadata": {},
   "outputs": [],
   "source": [
    "def detect_outliers(df,n,features):\n",
    "    outlier_indices = []\n",
    "    \"\"\"\n",
    "    Detect outliers from given list of features. It returns a list of the indices\n",
    "    according to the observations containing more than n outliers according\n",
    "    to the Tukey method\n",
    "    \"\"\"\n",
    "    # iterate over features(columns)\n",
    "    for col in features:\n",
    "        Q1 = np.percentile(df[col], 25)\n",
    "        Q3 = np.percentile(df[col],75)\n",
    "        IQR = Q3 - Q1\n",
    "        \n",
    "        # outlier step\n",
    "        outlier_step = 1.5 * IQR\n",
    "        \n",
    "        # Determine a list of indices of outliers for feature col\n",
    "        outlier_list_col = df[(df[col] < Q1 - outlier_step) | (df[col] > Q3 + outlier_step )].index\n",
    "        \n",
    "        # append the found outlier indices for col to the list of outlier indices \n",
    "        outlier_indices.extend(outlier_list_col)\n",
    "        \n",
    "    # select observations containing more than 2 outliers\n",
    "    outlier_indices = Counter(outlier_indices)\n",
    "    multiple_outliers = list( k for k, v in outlier_indices.items() if v > n )\n",
    "    \n",
    "    return multiple_outliers   \n",
    "\n",
    "# detect outliers from numeric features\n",
    "outliers_to_drop = detect_outliers(df, 2 ,[\"Pregnancies\", 'Glucose', 'BloodPressure', 'BMI', 'DiabetesPedigreeFunction', 'SkinThickness', 'Insulin', 'Age'])"
   ]
  },
  {
   "cell_type": "code",
   "execution_count": 23,
   "metadata": {},
   "outputs": [
    {
     "data": {
      "text/html": [
       "<div>\n",
       "<style scoped>\n",
       "    .dataframe tbody tr th:only-of-type {\n",
       "        vertical-align: middle;\n",
       "    }\n",
       "\n",
       "    .dataframe tbody tr th {\n",
       "        vertical-align: top;\n",
       "    }\n",
       "\n",
       "    .dataframe thead th {\n",
       "        text-align: right;\n",
       "    }\n",
       "</style>\n",
       "<table border=\"1\" class=\"dataframe\">\n",
       "  <thead>\n",
       "    <tr style=\"text-align: right;\">\n",
       "      <th></th>\n",
       "      <th>Pregnancies</th>\n",
       "      <th>Glucose</th>\n",
       "      <th>BloodPressure</th>\n",
       "      <th>SkinThickness</th>\n",
       "      <th>Insulin</th>\n",
       "      <th>BMI</th>\n",
       "      <th>DiabetesPedigreeFunction</th>\n",
       "      <th>Age</th>\n",
       "      <th>Outcome</th>\n",
       "    </tr>\n",
       "  </thead>\n",
       "  <tbody>\n",
       "    <tr>\n",
       "      <th>177</th>\n",
       "      <td>0</td>\n",
       "      <td>129.0</td>\n",
       "      <td>110.0</td>\n",
       "      <td>46</td>\n",
       "      <td>130.0</td>\n",
       "      <td>67.1</td>\n",
       "      <td>0.319</td>\n",
       "      <td>26</td>\n",
       "      <td>1</td>\n",
       "    </tr>\n",
       "    <tr>\n",
       "      <th>445</th>\n",
       "      <td>0</td>\n",
       "      <td>180.0</td>\n",
       "      <td>78.0</td>\n",
       "      <td>63</td>\n",
       "      <td>14.0</td>\n",
       "      <td>59.4</td>\n",
       "      <td>2.420</td>\n",
       "      <td>25</td>\n",
       "      <td>1</td>\n",
       "    </tr>\n",
       "    <tr>\n",
       "      <th>370</th>\n",
       "      <td>3</td>\n",
       "      <td>173.0</td>\n",
       "      <td>82.0</td>\n",
       "      <td>48</td>\n",
       "      <td>465.0</td>\n",
       "      <td>38.4</td>\n",
       "      <td>2.137</td>\n",
       "      <td>25</td>\n",
       "      <td>1</td>\n",
       "    </tr>\n",
       "  </tbody>\n",
       "</table>\n",
       "</div>"
      ],
      "text/plain": [
       "     Pregnancies  Glucose  BloodPressure  SkinThickness  Insulin   BMI  \\\n",
       "177            0    129.0          110.0             46    130.0  67.1   \n",
       "445            0    180.0           78.0             63     14.0  59.4   \n",
       "370            3    173.0           82.0             48    465.0  38.4   \n",
       "\n",
       "     DiabetesPedigreeFunction  Age  Outcome  \n",
       "177                     0.319   26        1  \n",
       "445                     2.420   25        1  \n",
       "370                     2.137   25        1  "
      ]
     },
     "execution_count": 23,
     "metadata": {},
     "output_type": "execute_result"
    }
   ],
   "source": [
    "df.loc[outliers_to_drop]"
   ]
  },
  {
   "cell_type": "code",
   "execution_count": 24,
   "metadata": {},
   "outputs": [],
   "source": [
    "df.drop(df.loc[outliers_to_drop].index, inplace=True)"
   ]
  },
  {
   "cell_type": "code",
   "execution_count": 25,
   "metadata": {},
   "outputs": [
    {
     "name": "stderr",
     "output_type": "stream",
     "text": [
      "c:\\Users\\HP\\anaconda3\\lib\\site-packages\\sklearn\\preprocessing\\_data.py:2583: UserWarning: n_quantiles (1000) is greater than the total number of samples (765). n_quantiles is set to n_samples.\n",
      "  warnings.warn(\n",
      "c:\\Users\\HP\\anaconda3\\lib\\site-packages\\sklearn\\base.py:450: UserWarning: X does not have valid feature names, but QuantileTransformer was fitted with feature names\n",
      "  warnings.warn(\n"
     ]
    }
   ],
   "source": [
    "from sklearn.preprocessing import QuantileTransformer\n",
    "q  = QuantileTransformer()\n",
    "X = q.fit_transform(df)\n",
    "transformedDF = q.transform(X)\n",
    "transformedDF = pd.DataFrame(X)\n",
    "transformedDF.columns =['Pregnancies', 'Glucose', 'BloodPressure', 'SkinThickness', 'Insulin', 'BMI', 'DiabetesPedigreeFunction', 'Age', 'Outcome']"
   ]
  },
  {
   "cell_type": "code",
   "execution_count": 26,
   "metadata": {},
   "outputs": [
    {
     "data": {
      "text/html": [
       "<div>\n",
       "<style scoped>\n",
       "    .dataframe tbody tr th:only-of-type {\n",
       "        vertical-align: middle;\n",
       "    }\n",
       "\n",
       "    .dataframe tbody tr th {\n",
       "        vertical-align: top;\n",
       "    }\n",
       "\n",
       "    .dataframe thead th {\n",
       "        text-align: right;\n",
       "    }\n",
       "</style>\n",
       "<table border=\"1\" class=\"dataframe\">\n",
       "  <thead>\n",
       "    <tr style=\"text-align: right;\">\n",
       "      <th></th>\n",
       "      <th>Pregnancies</th>\n",
       "      <th>Glucose</th>\n",
       "      <th>BloodPressure</th>\n",
       "      <th>SkinThickness</th>\n",
       "      <th>Insulin</th>\n",
       "      <th>BMI</th>\n",
       "      <th>DiabetesPedigreeFunction</th>\n",
       "      <th>Age</th>\n",
       "      <th>Outcome</th>\n",
       "    </tr>\n",
       "  </thead>\n",
       "  <tbody>\n",
       "    <tr>\n",
       "      <th>0</th>\n",
       "      <td>0.746728</td>\n",
       "      <td>0.812173</td>\n",
       "      <td>0.518979</td>\n",
       "      <td>0.804974</td>\n",
       "      <td>0.255890</td>\n",
       "      <td>0.593586</td>\n",
       "      <td>0.752618</td>\n",
       "      <td>0.889398</td>\n",
       "      <td>1.0</td>\n",
       "    </tr>\n",
       "    <tr>\n",
       "      <th>1</th>\n",
       "      <td>0.230366</td>\n",
       "      <td>0.091623</td>\n",
       "      <td>0.290576</td>\n",
       "      <td>0.645942</td>\n",
       "      <td>0.255890</td>\n",
       "      <td>0.214005</td>\n",
       "      <td>0.476440</td>\n",
       "      <td>0.556937</td>\n",
       "      <td>0.0</td>\n",
       "    </tr>\n",
       "    <tr>\n",
       "      <th>2</th>\n",
       "      <td>0.863220</td>\n",
       "      <td>0.956806</td>\n",
       "      <td>0.234293</td>\n",
       "      <td>0.358639</td>\n",
       "      <td>0.255890</td>\n",
       "      <td>0.077880</td>\n",
       "      <td>0.784031</td>\n",
       "      <td>0.582461</td>\n",
       "      <td>1.0</td>\n",
       "    </tr>\n",
       "    <tr>\n",
       "      <th>3</th>\n",
       "      <td>0.230366</td>\n",
       "      <td>0.125654</td>\n",
       "      <td>0.290576</td>\n",
       "      <td>0.358639</td>\n",
       "      <td>0.662958</td>\n",
       "      <td>0.285340</td>\n",
       "      <td>0.106675</td>\n",
       "      <td>0.000000</td>\n",
       "      <td>0.0</td>\n",
       "    </tr>\n",
       "    <tr>\n",
       "      <th>4</th>\n",
       "      <td>0.000000</td>\n",
       "      <td>0.723168</td>\n",
       "      <td>0.005236</td>\n",
       "      <td>0.804974</td>\n",
       "      <td>0.834424</td>\n",
       "      <td>0.929319</td>\n",
       "      <td>0.998691</td>\n",
       "      <td>0.604712</td>\n",
       "      <td>1.0</td>\n",
       "    </tr>\n",
       "  </tbody>\n",
       "</table>\n",
       "</div>"
      ],
      "text/plain": [
       "   Pregnancies   Glucose  BloodPressure  SkinThickness   Insulin       BMI  \\\n",
       "0     0.746728  0.812173       0.518979       0.804974  0.255890  0.593586   \n",
       "1     0.230366  0.091623       0.290576       0.645942  0.255890  0.214005   \n",
       "2     0.863220  0.956806       0.234293       0.358639  0.255890  0.077880   \n",
       "3     0.230366  0.125654       0.290576       0.358639  0.662958  0.285340   \n",
       "4     0.000000  0.723168       0.005236       0.804974  0.834424  0.929319   \n",
       "\n",
       "   DiabetesPedigreeFunction       Age  Outcome  \n",
       "0                  0.752618  0.889398      1.0  \n",
       "1                  0.476440  0.556937      0.0  \n",
       "2                  0.784031  0.582461      1.0  \n",
       "3                  0.106675  0.000000      0.0  \n",
       "4                  0.998691  0.604712      1.0  "
      ]
     },
     "execution_count": 26,
     "metadata": {},
     "output_type": "execute_result"
    }
   ],
   "source": [
    "transformedDF.head()"
   ]
  },
  {
   "cell_type": "code",
   "execution_count": 29,
   "metadata": {},
   "outputs": [],
   "source": [
    "# import train_test_split function\n",
    "from sklearn.model_selection import train_test_split\n",
    "features = df.drop([\"Outcome\"], axis=1)\n",
    "labels = df[\"Outcome\"]\n",
    "x_train, x_test, y_train, y_test = train_test_split(features, labels, test_size=0.30, random_state=7)"
   ]
  },
  {
   "cell_type": "code",
   "execution_count": 30,
   "metadata": {},
   "outputs": [
    {
     "data": {
      "text/plain": [
       "(535, 2)"
      ]
     },
     "execution_count": 30,
     "metadata": {},
     "output_type": "execute_result"
    }
   ],
   "source": [
    "# import the pca\n",
    "from sklearn.decomposition import PCA\n",
    "pca1 = PCA(n_components=2)\n",
    "X_pca = pca1.fit_transform(x_train)\n",
    "X_pca.shape"
   ]
  },
  {
   "cell_type": "code",
   "execution_count": 32,
   "metadata": {},
   "outputs": [
    {
     "data": {
      "text/plain": [
       "array([0.90387058, 0.06405389])"
      ]
     },
     "execution_count": 32,
     "metadata": {},
     "output_type": "execute_result"
    }
   ],
   "source": [
    "pca1.explained_variance_ratio_"
   ]
  },
  {
   "cell_type": "code",
   "execution_count": 33,
   "metadata": {},
   "outputs": [
    {
     "data": {
      "text/plain": [
       "[array([[ 1.05207606e+02,  4.01101462e+01],\n",
       "        [ 3.96449013e+01, -1.96560620e+01],\n",
       "        [-6.38558844e+01, -2.24960428e+00],\n",
       "        [-6.08737382e+01,  2.10462502e+01],\n",
       "        [-7.18127471e+01, -3.17359789e+01],\n",
       "        [ 9.76455210e+00,  3.42657388e+01],\n",
       "        [-4.72544177e+01, -1.22210209e+01],\n",
       "        [-5.70927032e+01,  5.93833452e+01],\n",
       "        [-6.03160480e+01,  2.97523949e+01],\n",
       "        [-6.65496666e+01, -2.98129385e+01],\n",
       "        [-9.21530280e+00, -2.60710041e+01],\n",
       "        [ 3.83755772e+02,  1.17329286e+01],\n",
       "        [-8.67799266e+00, -2.89988423e+01],\n",
       "        [-6.15394390e+01,  2.07708007e+01],\n",
       "        [ 5.03570011e+02, -4.66241426e+01],\n",
       "        [-2.31901470e+01, -1.50771404e+00],\n",
       "        [-4.93412223e+01, -3.77542177e+01],\n",
       "        [ 2.37226208e+02,  4.12515304e+01],\n",
       "        [-6.37565600e+01, -9.73224357e-01],\n",
       "        [-5.87474850e+01,  4.92152397e+01],\n",
       "        [-1.69724390e+01, -7.08360741e+00],\n",
       "        [-6.26811924e+01,  7.67893479e+00],\n",
       "        [ 2.76444378e+02, -1.20068526e+01],\n",
       "        [ 1.54509695e+02,  2.06795226e+01],\n",
       "        [-5.29094529e+01, -2.96448277e+01],\n",
       "        [ 1.72580534e+01,  8.38053173e+00],\n",
       "        [ 7.36126031e+01, -6.30026277e+00],\n",
       "        [ 9.75779598e+01,  5.52383242e+01],\n",
       "        [ 1.78301082e+00, -6.07995733e+00],\n",
       "        [ 1.54843995e+01,  3.87434549e+01],\n",
       "        [-6.87759447e+01, -4.67149620e+01],\n",
       "        [-2.20116329e+01, -3.86514994e+01],\n",
       "        [-6.53877900e+01, -1.60505731e+01],\n",
       "        [-6.49041711e+01, -1.03385429e+01],\n",
       "        [ 6.46632321e+01,  3.11298361e+01],\n",
       "        [-6.60700983e+01, -2.55923990e+01],\n",
       "        [ 2.04881180e+02,  3.81483165e+01],\n",
       "        [-6.31379149e+01,  1.09627767e+01],\n",
       "        [-6.16742651e+01,  2.25928987e+01],\n",
       "        [-5.51343825e+01,  7.59995958e+01],\n",
       "        [ 4.92093885e+00, -1.50836283e+01],\n",
       "        [ 1.80916158e+02,  1.31204328e+01],\n",
       "        [-6.36338321e+01,  3.71689191e+00],\n",
       "        [-6.08502744e+01, -3.58965413e+01],\n",
       "        [-6.53798137e+01, -2.03402734e+01],\n",
       "        [ 1.25807332e+02, -1.27170860e+01],\n",
       "        [ 5.61168873e+01, -2.43579296e+01],\n",
       "        [ 2.40491553e+02, -2.37237761e+01],\n",
       "        [-6.60124016e+01, -2.25807796e+01],\n",
       "        [-6.14476679e+01,  1.48454283e+01],\n",
       "        [-6.36320868e+01, -4.94684758e+00],\n",
       "        [-6.32955495e+01,  3.88994358e+00],\n",
       "        [ 4.02544731e+02, -7.58763345e+00],\n",
       "        [ 4.42570688e+00, -1.31848966e+01],\n",
       "        [ 2.56551665e+00,  6.06778552e+01],\n",
       "        [-6.17073743e+01,  1.63841379e+01],\n",
       "        [-4.73649702e+01, -2.32964254e+01],\n",
       "        [ 6.19793067e+01,  7.62506472e+00],\n",
       "        [-5.00465461e+01, -1.69944001e+01],\n",
       "        [-6.59665082e+01, -1.83629445e+01],\n",
       "        [-3.80376033e+01, -1.65000467e+01],\n",
       "        [-6.39902075e+01, -6.22598092e+00],\n",
       "        [-6.37710571e+01, -1.46502072e+00],\n",
       "        [-6.45072219e+01, -1.01348621e+01],\n",
       "        [-5.74656533e+01,  5.70404280e+01],\n",
       "        [-6.48549261e+01, -1.32698796e+01],\n",
       "        [-7.04484658e+01,  5.53332625e+00],\n",
       "        [ 7.74834198e+01,  2.58055435e+01],\n",
       "        [-6.43880955e+01, -7.12005897e+00],\n",
       "        [-4.19680937e+01, -4.18133928e+01],\n",
       "        [ 9.04827775e+00, -1.92530652e+01],\n",
       "        [-6.28992281e+01,  5.48140138e+00],\n",
       "        [-6.64743480e+01, -2.81717848e+01],\n",
       "        [ 1.11529772e+02, -4.42080002e+00],\n",
       "        [ 4.84505842e+01,  1.66538131e+01],\n",
       "        [ 3.86390898e+02, -2.43104246e+01],\n",
       "        [-3.15444794e+01, -3.09056912e+01],\n",
       "        [-2.21420144e+01, -2.21576520e+01],\n",
       "        [-6.11131426e+01,  2.82960326e+01],\n",
       "        [-5.99967057e+01,  3.53964796e+01],\n",
       "        [ 4.67951868e+01, -2.19688904e+01],\n",
       "        [-6.44868096e+01, -9.20327442e+00],\n",
       "        [-6.66009247e+01, -2.95876526e+01],\n",
       "        [ 5.27577327e+01, -2.11580387e+01],\n",
       "        [-6.35776037e+01,  2.39472273e+00],\n",
       "        [-6.57599377e+01, -2.31189861e+01],\n",
       "        [ 1.18755613e+02, -3.03751751e+01],\n",
       "        [-6.05202005e+01,  2.78750540e+01],\n",
       "        [-6.43625339e+01, -7.08429517e+00],\n",
       "        [-6.70996682e+01, -3.33071899e+01],\n",
       "        [-5.51499232e+01,  7.83403091e+01],\n",
       "        [ 1.05258690e+02, -1.94430505e+01],\n",
       "        [ 5.95590215e+01,  3.07099536e+01],\n",
       "        [-4.40141105e+01, -1.59598356e+00],\n",
       "        [-6.66988776e+01, -2.79408800e+01],\n",
       "        [-2.15236764e+01, -3.85545031e+01],\n",
       "        [ 4.11871617e+01, -5.07836283e+00],\n",
       "        [-6.60096683e+01, -2.32948877e+01],\n",
       "        [ 1.67959467e+02, -4.09172135e+01],\n",
       "        [ 2.66256819e+01,  8.28435209e-01],\n",
       "        [-5.86924469e+01,  5.08373332e+01],\n",
       "        [ 2.95230111e+02,  3.09361791e+00],\n",
       "        [-6.63690426e+01, -2.61381686e+01],\n",
       "        [-6.93251543e+01, -5.31410226e+01],\n",
       "        [ 4.05396052e+02,  2.05768194e+01],\n",
       "        [-6.43753508e+01, -8.27839223e+00],\n",
       "        [ 2.67581323e+02, -3.68299449e+00],\n",
       "        [ 1.35967526e+02,  9.78593437e+00],\n",
       "        [-6.60799348e+01, -2.05394603e+01],\n",
       "        [-6.46163488e+01, -9.00729643e+00],\n",
       "        [ 2.94471645e+01,  2.52589441e+01],\n",
       "        [-6.34228313e+01,  4.97595564e+00],\n",
       "        [-6.49758541e+01, -1.65728627e+01],\n",
       "        [-6.02280257e+01,  3.51860055e+01],\n",
       "        [-6.28155472e+01,  8.31245033e+00],\n",
       "        [-6.35297933e+01, -1.93351781e+00],\n",
       "        [ 1.36121873e+02, -1.10872372e+01],\n",
       "        [ 1.89794468e+02, -2.56073090e+01],\n",
       "        [-6.33521325e+01,  5.03529955e+00],\n",
       "        [-6.30319958e+01,  3.13099936e+00],\n",
       "        [-6.39681898e+01, -1.87514476e+00],\n",
       "        [-1.00438003e+01, -4.45978268e+01],\n",
       "        [-4.40748993e+01, -2.95073212e+01],\n",
       "        [-6.24574094e+01,  7.62307011e+00],\n",
       "        [-6.66888222e+01, -2.65674754e+01],\n",
       "        [ 1.16556381e+02, -5.94230662e+00],\n",
       "        [-5.79665134e+01,  5.27162524e+01],\n",
       "        [-6.06481378e+01,  2.56953771e+01],\n",
       "        [-6.71331669e+01, -3.29869584e+01],\n",
       "        [ 1.65540755e+02,  2.71918809e+01],\n",
       "        [-6.68211007e+01, -3.22167738e+01],\n",
       "        [-1.95575926e+01, -9.72301259e+00],\n",
       "        [-6.77100718e+01, -3.62135175e+01],\n",
       "        [ 1.11805723e+02,  3.44552916e+00],\n",
       "        [-3.21589236e+01,  2.31915687e+01],\n",
       "        [ 2.17451177e+02, -5.80259422e-01],\n",
       "        [ 1.00968984e+02, -6.42306688e+00],\n",
       "        [-6.18402476e+01,  1.64281798e+01],\n",
       "        [-5.57066745e+01,  7.79706516e+01],\n",
       "        [-5.77849770e+01, -3.51270766e+01],\n",
       "        [-5.80921903e+01,  4.74272763e+01],\n",
       "        [-6.26484168e+01,  1.12971811e+01],\n",
       "        [ 7.49019385e+01,  6.47518560e+00],\n",
       "        [ 4.32130769e+01, -3.11623948e+01],\n",
       "        [-1.21236390e+01, -2.03056105e+01],\n",
       "        [ 9.21962457e+01,  4.96883411e+01],\n",
       "        [ 4.52695669e+02, -1.09919589e+01],\n",
       "        [ 4.63669415e+01, -2.59555418e+00],\n",
       "        [-6.17089060e+01,  1.81634518e+01],\n",
       "        [-6.39339920e+01, -2.35777653e+00],\n",
       "        [-6.31388090e+01,  1.03225053e+01],\n",
       "        [-6.24577111e+01,  1.06821911e+01],\n",
       "        [-5.95732106e+01,  3.52368073e+01],\n",
       "        [-6.45552141e+01, -1.04839081e+01],\n",
       "        [-5.83348046e+01,  5.36689260e+01],\n",
       "        [ 8.02854739e+01,  2.36103309e+01],\n",
       "        [ 1.52773911e+00, -1.02889988e+00],\n",
       "        [-7.73736731e+01, -1.46518070e+01],\n",
       "        [ 5.45476231e+01,  3.92657645e+01],\n",
       "        [ 8.96140874e+00, -2.78045711e+01],\n",
       "        [-3.99874282e+01, -1.89388445e+01],\n",
       "        [-6.35761614e+01, -4.55569589e+00],\n",
       "        [ 8.61178986e+01, -2.48094903e+01],\n",
       "        [ 3.82422646e+01,  1.33319448e+01],\n",
       "        [-6.79745295e+01, -4.26790762e+01],\n",
       "        [-5.60628062e+01,  7.12288449e+01],\n",
       "        [-5.97978459e+01,  3.26529906e+01],\n",
       "        [ 2.74471016e+01, -3.89668482e+01],\n",
       "        [-6.05279767e+01,  3.61104502e+01],\n",
       "        [-6.10634402e+01,  2.02500646e+01],\n",
       "        [ 2.37316374e+02, -2.63190003e+00],\n",
       "        [ 6.32047099e+01, -3.58762435e+01],\n",
       "        [-6.32937050e+01,  2.51894603e+00],\n",
       "        [-6.36140193e+01, -1.44871969e+00],\n",
       "        [-6.40269896e+01, -6.83042180e+00],\n",
       "        [-6.15281899e+01,  2.17963802e+01],\n",
       "        [-5.88684449e+01,  4.68528945e+01],\n",
       "        [-6.25699063e+01,  1.11917443e+01],\n",
       "        [-5.91345259e+01,  3.76638702e+01],\n",
       "        [ 1.92565117e+02,  7.33737796e+00],\n",
       "        [-6.32481752e+01,  4.21021889e+00],\n",
       "        [-6.16545042e+01,  1.23476231e+01],\n",
       "        [-4.19746479e+01, -1.91868674e+01],\n",
       "        [ 2.16318636e+02,  4.41657656e+01],\n",
       "        [-6.35215500e+01,  1.54427151e-01],\n",
       "        [ 1.81492709e+02, -3.53036525e+01],\n",
       "        [-6.48256595e+01, -2.72814090e+01],\n",
       "        [-4.50667512e+01, -1.88521635e+01],\n",
       "        [ 7.67282955e+01, -2.35823137e+00],\n",
       "        [-6.42964074e+01, -5.13647894e+00],\n",
       "        [ 8.68899384e-01,  3.63115758e+00],\n",
       "        [-6.41142787e+01, -5.25366834e+00],\n",
       "        [-6.48286801e+01, -1.10493187e+01],\n",
       "        [-6.34779003e+01,  1.79821329e-01],\n",
       "        [ 5.87738705e+01,  6.98049922e+01],\n",
       "        [-4.32935317e+01, -3.19777731e+01],\n",
       "        [-5.78991586e+01,  5.32983431e+01],\n",
       "        [ 3.04170527e+00, -3.36753759e+01],\n",
       "        [-1.99436368e+00, -4.13854900e+00],\n",
       "        [-5.73298707e+01,  5.92458208e+01],\n",
       "        [ 9.64772272e+01, -3.85668779e+00],\n",
       "        [-3.10387767e+01, -1.53697741e+01],\n",
       "        [-6.60960968e+01, -2.09610660e+01],\n",
       "        [-4.56318998e+01, -1.77874704e+01],\n",
       "        [-6.47104273e+01, -4.18205446e+00],\n",
       "        [ 5.29987115e+01,  1.12233422e+01],\n",
       "        [-6.30280449e+01,  1.67479825e+00],\n",
       "        [-6.02089847e+01,  2.99595975e+01],\n",
       "        [-5.51074978e+01,  7.89370754e+01],\n",
       "        [ 6.22195562e+01, -6.36690363e+00],\n",
       "        [-5.68352928e+01,  6.52205654e+01],\n",
       "        [ 3.56202626e+01,  2.96461461e+01],\n",
       "        [-6.45097736e+01, -9.65445822e+00],\n",
       "        [-1.60756704e+01,  4.05755942e+00],\n",
       "        [-6.51170719e+01, -1.43741161e+01],\n",
       "        [ 2.83426338e+01,  2.08794729e+00],\n",
       "        [-6.06560196e+01,  2.85990444e+01],\n",
       "        [ 4.03565274e+00, -2.54165217e+01],\n",
       "        [-6.57918650e+01, -2.07704155e+01],\n",
       "        [-6.02239096e+01,  3.14559475e+01],\n",
       "        [ 4.25279790e+01,  1.29747536e+01],\n",
       "        [ 4.24899863e+01,  5.41243552e+01],\n",
       "        [ 2.36197273e+01, -2.81586889e+01],\n",
       "        [-6.66672156e+01, -2.73622730e+01],\n",
       "        [-6.27723749e+01,  5.89112447e+00],\n",
       "        [-5.56893373e+01,  7.49566621e+01],\n",
       "        [-6.56242053e+01, -1.32131328e+01],\n",
       "        [-3.13472327e+00, -3.37912517e+01],\n",
       "        [-6.61596330e+01, -2.50448610e+01],\n",
       "        [-6.60484176e+01, -1.64476547e+01],\n",
       "        [-6.42775494e+01, -8.71697906e+00],\n",
       "        [-6.45490300e+01, -9.24870201e+00],\n",
       "        [-6.62711468e+01, -2.42589853e+01],\n",
       "        [-2.06351294e+01, -2.70693984e+01],\n",
       "        [-5.98293690e+01,  3.58596127e+01],\n",
       "        [-5.84967797e+01, -2.23530141e+01],\n",
       "        [-6.60594280e+01, -2.33248247e+01],\n",
       "        [-6.36893551e+01, -2.08033396e+00],\n",
       "        [ 5.18098887e+01,  1.44325082e+01],\n",
       "        [-6.05649554e+01,  2.87120912e+01],\n",
       "        [-6.70316369e+01, -3.24786421e+01],\n",
       "        [ 1.35805802e+02, -1.44139954e+01],\n",
       "        [-6.40793705e+01, -7.25665538e-01],\n",
       "        [ 5.99609290e+01, -2.19242779e+01],\n",
       "        [-6.44598654e+01, -1.44747299e+00],\n",
       "        [-6.73233017e+01, -3.77125767e+01],\n",
       "        [-7.10500084e+01, -6.96119096e+01],\n",
       "        [-6.46587148e+01, -3.90623033e+00],\n",
       "        [-5.90128988e+01,  4.18109401e+01],\n",
       "        [-6.65317812e+01, -2.46656145e+01],\n",
       "        [ 3.88067702e+02,  1.19903904e+01],\n",
       "        [ 9.11995556e+00, -1.79862222e+01],\n",
       "        [-6.10336395e+01,  2.19255047e+01],\n",
       "        [-4.33552128e+01, -4.18700026e+01],\n",
       "        [-6.32935424e+01,  5.89430022e+00],\n",
       "        [ 3.77727883e+01,  1.39771857e+01],\n",
       "        [ 1.79353214e+01,  1.49436242e+01],\n",
       "        [ 8.87571263e+00,  2.45243330e+01],\n",
       "        [ 3.00490541e+01, -1.43058758e+01],\n",
       "        [-5.74914196e+01,  5.50517243e+01],\n",
       "        [ 1.41413178e+02, -7.67323044e+00],\n",
       "        [-6.90647265e+01, -4.86984208e+01],\n",
       "        [-6.07068877e+01,  2.61224869e+01],\n",
       "        [-6.34060406e+01,  2.25088265e-01],\n",
       "        [-6.44516972e+01, -8.73884429e+00],\n",
       "        [ 6.93253413e+01, -2.54117412e+01],\n",
       "        [ 1.80682851e+01, -2.50786346e+00],\n",
       "        [-6.40349633e+01, -6.41723952e+00],\n",
       "        [-6.60757723e+01, -2.24099281e+01],\n",
       "        [-6.26301232e+01,  6.89944078e+00],\n",
       "        [-6.16808254e+01,  1.55665019e+01],\n",
       "        [-5.65711040e+01,  6.54563798e+01],\n",
       "        [-6.19439484e+01,  1.70265059e+01],\n",
       "        [ 1.76055862e+02, -1.01196480e+01],\n",
       "        [ 8.50101105e+01,  2.86901191e+01],\n",
       "        [-6.78058202e-01, -1.01494542e+01],\n",
       "        [ 1.79807612e+02,  1.26293247e+01],\n",
       "        [ 6.23053152e+01,  4.87499432e+00],\n",
       "        [-5.92722664e+01,  4.16166137e+01],\n",
       "        [ 6.35189202e+01, -3.13836823e+01],\n",
       "        [ 4.57567054e+01, -1.11264103e+01],\n",
       "        [-6.20478176e+01,  1.61183703e+01],\n",
       "        [-1.23333746e+01, -2.24000930e+01],\n",
       "        [-6.26275983e+01,  8.84574922e+00],\n",
       "        [-5.85569741e+01,  5.33104387e+01],\n",
       "        [-6.21440864e+01,  1.61905147e+01],\n",
       "        [ 3.42049179e+01, -1.67161015e+01],\n",
       "        [-6.18643214e+01,  1.75114248e+01],\n",
       "        [ 2.31211994e+02, -1.16326649e+01],\n",
       "        [-5.89986079e+01,  4.32280630e+01],\n",
       "        [-5.90027730e+01,  4.09018286e+01],\n",
       "        [-1.79164431e+01,  8.27685924e+00],\n",
       "        [ 2.32336045e+02,  3.97670959e-01],\n",
       "        [ 1.14620792e+01, -1.30801682e+00],\n",
       "        [-6.09189247e+01,  2.95453790e+01],\n",
       "        [-3.75835689e+00,  1.78147511e+01],\n",
       "        [ 9.57194011e+00, -1.68450699e+01],\n",
       "        [-6.16886549e+01,  1.49954960e+01],\n",
       "        [-2.93161971e+01, -2.00484326e+01],\n",
       "        [-5.66748699e+01,  7.00927081e+01],\n",
       "        [-6.33145128e+01,  8.99569652e+00],\n",
       "        [-6.36832154e+01, -2.78401384e+00],\n",
       "        [-6.25588784e+01,  1.05974616e+01],\n",
       "        [-6.53093256e+01, -1.33904053e+01],\n",
       "        [-6.48830329e+01, -1.47192471e+01],\n",
       "        [-6.34917243e+01,  1.29083619e+00],\n",
       "        [-1.39531840e+01, -1.79578203e+01],\n",
       "        [-6.47936900e+01, -1.01453606e+01],\n",
       "        [-6.45287924e+01, -9.14505870e+00],\n",
       "        [-6.13484712e+01,  2.36043277e+01],\n",
       "        [-2.61108157e+01, -1.94413398e+01],\n",
       "        [-2.29100999e+00, -2.61271250e+01],\n",
       "        [-4.51890446e+01, -3.17888136e+01],\n",
       "        [-6.77923794e+01, -4.11165708e+01],\n",
       "        [-6.11068987e+01,  2.41757518e+01],\n",
       "        [-5.55889600e+01, -2.56289052e+01],\n",
       "        [ 1.18668517e+01,  5.21512681e+00],\n",
       "        [-8.90345515e+00,  1.38116892e+01],\n",
       "        [-6.13096277e+01,  1.95051247e+01],\n",
       "        [-5.89810173e+01,  4.35688459e+01],\n",
       "        [ 1.19698857e+02,  5.66310877e+01],\n",
       "        [ 6.54827522e+02,  6.95280166e+00],\n",
       "        [-6.31958451e+01,  4.61507847e+00],\n",
       "        [-6.65405163e+01, -2.77405082e+01],\n",
       "        [-1.44332344e+01, -2.56027837e+01],\n",
       "        [ 3.86185488e+02, -1.60909800e+01],\n",
       "        [ 1.19022619e+02,  1.93190619e+01],\n",
       "        [-5.83943537e+01,  4.79081476e+01],\n",
       "        [-6.42682181e+01, -5.39314914e+00],\n",
       "        [ 8.87780617e+01,  1.79620466e+01],\n",
       "        [ 1.85452931e+01, -2.97427202e+01],\n",
       "        [-5.33084720e+01, -4.25262785e+01],\n",
       "        [-6.34418836e+01, -3.29178286e+00],\n",
       "        [ 2.25849291e+02,  1.23433882e+00],\n",
       "        [-6.48690248e+01, -1.25200961e+01],\n",
       "        [ 1.92788207e+02,  1.02850518e+01],\n",
       "        [ 2.91778650e+01, -3.06374304e+01],\n",
       "        [-6.39572933e+01, -2.22613379e+00],\n",
       "        [-6.15474540e+01,  1.75345954e+01],\n",
       "        [ 2.57844628e+01, -8.53477944e+00],\n",
       "        [ 9.17367985e+00, -2.45275850e+01],\n",
       "        [-6.46382106e+01, -1.27038222e+01],\n",
       "        [-6.73952164e+01, -3.47503977e+01],\n",
       "        [-6.09936288e+01,  2.40612779e+01],\n",
       "        [-6.51849359e+01, -1.08605284e+01],\n",
       "        [ 1.19905941e+02,  2.60044485e+01],\n",
       "        [-5.01504292e+00, -5.03228773e+00],\n",
       "        [ 5.87939308e+02, -1.58959931e+01],\n",
       "        [ 9.58903170e+01, -2.91612749e+01],\n",
       "        [-6.08691769e+01,  2.59148300e+01],\n",
       "        [-6.10306438e+01,  4.08316922e+01],\n",
       "        [-5.64438263e+01,  6.70383238e+01],\n",
       "        [-6.39232512e+01, -4.50145322e+00],\n",
       "        [ 8.75846779e+01, -2.68359762e+01],\n",
       "        [ 5.85354054e+01, -4.63778992e+00],\n",
       "        [-3.78353567e+01,  4.56727883e+00],\n",
       "        [ 7.10086740e+01, -7.76829748e+00],\n",
       "        [-6.01731611e+01,  3.40441417e+01],\n",
       "        [-6.49399605e+01, -1.63216259e+01],\n",
       "        [-6.61779709e+01, -1.99961437e+01],\n",
       "        [-6.20912776e+01,  1.48061839e+01],\n",
       "        [-6.58111229e+01, -2.25687397e+01],\n",
       "        [ 2.07379466e+01, -1.75300072e+01],\n",
       "        [ 8.77154882e+01,  8.17651193e+00],\n",
       "        [-6.38140626e+01, -4.82262729e+00],\n",
       "        [ 3.95847279e+01, -2.03710253e+01],\n",
       "        [ 3.75739107e+01, -1.20972331e+01],\n",
       "        [-6.49206604e+01, -1.32673428e+01],\n",
       "        [ 1.84070986e+01,  2.57991686e+01],\n",
       "        [-5.93885721e+01,  3.39057872e+01],\n",
       "        [-6.24836973e+01,  1.39957091e+01],\n",
       "        [-2.08883865e+01, -1.34197006e+01],\n",
       "        [-6.10113025e+01,  2.78856638e+01],\n",
       "        [-6.18409306e+01,  1.80446430e+01]]),\n",
       " array([[-6.80775922e+01, -4.39875337e+01],\n",
       "        [-5.56628313e+01, -3.51854087e+01],\n",
       "        [-1.37737880e+01,  1.10245548e+01],\n",
       "        [-6.08907785e+01,  3.18587885e+01],\n",
       "        [ 8.18154993e+01, -5.75192910e+00],\n",
       "        [ 1.93170185e+02,  5.82078746e+01],\n",
       "        [-6.53320817e+01, -1.88901190e+01],\n",
       "        [ 1.20963661e+02, -9.19655159e+00],\n",
       "        [-6.50953591e+01, -1.65908767e+01],\n",
       "        [ 1.57339562e+02, -3.09539269e+00],\n",
       "        [-6.49544676e+01, -1.54683737e+01],\n",
       "        [-2.46858785e+01, -1.91453284e+01],\n",
       "        [-7.59264537e+00, -4.46282722e+00],\n",
       "        [-2.77148774e+01, -3.67423784e+01],\n",
       "        [ 1.17237504e+02,  1.94441831e+00],\n",
       "        [-6.08612181e+01,  2.71278276e+01],\n",
       "        [ 1.12051337e+02, -1.72142505e+01],\n",
       "        [-5.84468442e+01,  4.98560603e+01],\n",
       "        [-6.26139874e+01,  8.81159509e+00],\n",
       "        [ 9.40171107e+01, -2.38717257e+01],\n",
       "        [-5.94826514e+01,  3.88860056e+01],\n",
       "        [ 4.20700286e+02,  1.75279351e+01],\n",
       "        [-5.84012434e+01,  5.10864032e+01],\n",
       "        [ 1.73217321e+01, -3.97081208e+01],\n",
       "        [-6.47363886e+01, -7.81774432e+00],\n",
       "        [-8.07256580e+01, -2.73210111e+01],\n",
       "        [-6.27533280e+01,  9.41594701e+00],\n",
       "        [-6.50243740e+01, -1.17548236e+01],\n",
       "        [-6.31880721e+01,  1.02714529e+00],\n",
       "        [ 6.22656467e+01, -2.47549025e+01],\n",
       "        [-6.39440443e+01,  1.07895601e+00],\n",
       "        [-6.30251768e+01,  5.20577900e+00],\n",
       "        [-6.69882580e+01, -2.89446756e+01],\n",
       "        [ 6.53891086e+01, -1.36693928e+01],\n",
       "        [-6.16767875e+01,  2.32001248e+01],\n",
       "        [-6.76177604e+01, -3.73876944e+01],\n",
       "        [-5.82082519e+01,  4.38529257e+01],\n",
       "        [-1.30101507e+01, -1.34701000e+01],\n",
       "        [-6.58137451e+01, -2.39506622e+01],\n",
       "        [-6.29074472e+01,  2.87576328e+00],\n",
       "        [-6.71372188e+01, -3.51980081e+01],\n",
       "        [-6.54327819e+01, -1.98866701e+01],\n",
       "        [ 1.21728819e+01, -3.48159977e+00],\n",
       "        [ 4.80702915e+01,  1.12202744e+01],\n",
       "        [-6.30328700e+01,  5.98263185e+00],\n",
       "        [-8.65306181e+00, -2.99697550e+01],\n",
       "        [-5.52596428e+01, -6.19363784e+01],\n",
       "        [ 1.12577667e+02,  5.37617735e+01],\n",
       "        [-4.91726733e+01, -3.08873024e+01],\n",
       "        [ 6.44455794e+01, -7.78393384e+00],\n",
       "        [-5.62395284e+01,  6.34188554e+01],\n",
       "        [-1.73572236e+01,  5.83687455e+01],\n",
       "        [-3.14160986e+01, -3.56774236e+01],\n",
       "        [-4.13073224e+01, -3.07252534e+01],\n",
       "        [-6.39842533e+01,  9.22374257e-01],\n",
       "        [-6.56086853e+01, -1.99574041e+01],\n",
       "        [-6.40228480e+01, -3.13506848e+00],\n",
       "        [-6.41410745e+01, -3.52519614e-01],\n",
       "        [-4.65537246e+00, -3.01691531e+01],\n",
       "        [-6.55953114e+01, -1.51604227e+01],\n",
       "        [-6.25377244e+01,  7.99529668e+00],\n",
       "        [-5.78339884e+01,  5.72839695e+01],\n",
       "        [-4.22158397e+01, -2.35596869e+01],\n",
       "        [-6.45984529e+01, -5.81010934e+00],\n",
       "        [-6.20397874e+01,  1.25235924e+01],\n",
       "        [ 8.41049742e+01, -2.27883810e+01],\n",
       "        [ 3.90653564e+01,  2.28496330e+01],\n",
       "        [-6.18623762e+01,  2.29759523e+01],\n",
       "        [-5.89182016e+01,  4.98903720e+01],\n",
       "        [ 8.45119994e+00, -3.86540955e+01],\n",
       "        [ 2.03044038e+01, -2.14374000e+01],\n",
       "        [-6.55126468e+01, -1.89835341e+01],\n",
       "        [-5.69666589e+00, -2.23177621e+01],\n",
       "        [-5.34138615e+01,  8.74015777e+01],\n",
       "        [-6.66591408e+01, -3.03003397e+01],\n",
       "        [-6.33479034e+01, -2.16296082e-01],\n",
       "        [ 1.65088589e+01,  5.48859183e-01],\n",
       "        [-2.34771523e+01, -2.29496801e+01],\n",
       "        [-2.65889075e+01, -3.35070283e+01],\n",
       "        [-6.01802678e+01,  3.03250307e+01],\n",
       "        [ 2.28418775e+02, -3.97942730e+01],\n",
       "        [-6.08075873e+01,  2.48797030e+01],\n",
       "        [-5.95496734e+01, -2.58582823e+01],\n",
       "        [-4.83314124e+01, -3.29986674e+01],\n",
       "        [ 9.65117058e+01,  4.24186919e+01],\n",
       "        [ 2.86964010e+02,  3.66591757e+01],\n",
       "        [-6.23594094e+01,  9.60083203e+00],\n",
       "        [ 8.54104684e+01, -1.38070210e+01],\n",
       "        [-5.99942456e+01,  3.08611287e+01],\n",
       "        [ 1.09736319e+01, -1.51270677e+00],\n",
       "        [ 1.51907434e+01, -8.82018780e+00],\n",
       "        [-5.50199538e+01,  8.16494668e+01],\n",
       "        [-6.40421706e+01,  6.19810640e-01],\n",
       "        [-5.00401035e+01, -4.08055620e+01],\n",
       "        [ 2.46425731e+01, -2.00260587e+01],\n",
       "        [-6.43771839e+01, -5.83777866e+00],\n",
       "        [ 1.06104578e+02, -8.73549251e+00],\n",
       "        [ 1.50781734e+02,  4.17933063e+01],\n",
       "        [-6.26374887e+01,  4.94304463e+00],\n",
       "        [ 2.37513612e+01, -1.76867459e+01],\n",
       "        [-6.37333284e+01,  6.01354309e+00],\n",
       "        [-5.53769913e+01,  8.32455572e+01],\n",
       "        [ 4.54999140e+02,  3.07127565e+01],\n",
       "        [-6.90804967e+01, -4.90625372e+01],\n",
       "        [-1.28662361e+01, -2.25243257e+01],\n",
       "        [-4.74591319e+01, -3.47159663e+01],\n",
       "        [ 1.11910171e+01, -2.65031290e+00],\n",
       "        [-3.22850498e+01, -1.88664707e+01],\n",
       "        [ 8.30872451e+01, -3.15851289e+01],\n",
       "        [-6.00914445e+01,  3.42674174e+01],\n",
       "        [ 4.99802997e+01,  2.87457763e+01],\n",
       "        [-6.47146430e+01, -1.16557144e+01],\n",
       "        [-6.17228321e+01,  1.99073328e+01],\n",
       "        [ 2.66609736e+01,  2.07071046e+00],\n",
       "        [-6.19769879e+01,  1.54655258e+01],\n",
       "        [ 3.07009331e+02, -2.85176634e+01],\n",
       "        [-3.07843563e+01,  1.22454570e+00],\n",
       "        [-6.52999650e+01, -1.70594998e+01],\n",
       "        [-6.75638341e+01, -3.94555260e+01],\n",
       "        [-6.73574370e+01, -3.91492290e+01],\n",
       "        [ 4.56851482e+01, -1.27353789e+01],\n",
       "        [ 6.13163863e+01,  4.38849890e-01],\n",
       "        [ 7.58850184e+01,  5.08321177e+00],\n",
       "        [ 8.88975751e+01, -8.19769882e-01],\n",
       "        [-6.26918890e+01,  9.31643704e+00],\n",
       "        [ 7.28566530e+01,  1.13810655e+00],\n",
       "        [-6.57160992e+01, -1.96882290e+01],\n",
       "        [ 1.59851888e+02, -4.56394123e+01],\n",
       "        [-6.22498109e+01,  1.56078324e+01],\n",
       "        [-9.81714991e+00, -1.11426959e+01],\n",
       "        [-6.30449943e+01,  2.42338404e+00],\n",
       "        [ 7.13686623e+01, -8.39516677e+00],\n",
       "        [-6.52188028e+01, -1.63025081e+01],\n",
       "        [-1.03807786e+00, -1.75971878e+01],\n",
       "        [ 3.74440770e+01,  8.40821207e+00],\n",
       "        [ 7.90537328e+01,  4.24153532e+01],\n",
       "        [-6.50932126e+01, -1.57302180e+01],\n",
       "        [ 8.00259847e+01, -1.50401127e+01],\n",
       "        [ 1.17936810e+01, -7.32353900e+00],\n",
       "        [ 1.80807674e+02, -1.58795503e+01],\n",
       "        [ 2.00896830e+02,  4.76739059e+00],\n",
       "        [ 1.91348771e+01, -1.30864319e+01],\n",
       "        [-2.61999608e+01, -3.33147528e+01],\n",
       "        [-6.44894470e+01, -9.07666082e+00],\n",
       "        [-6.04425843e+01,  3.13753854e+01],\n",
       "        [ 5.61709195e+00,  3.19049028e+01],\n",
       "        [-6.47016234e+01, -9.12916115e+00],\n",
       "        [ 1.41774393e+02,  3.72629504e+01],\n",
       "        [ 1.04382826e+01, -7.57070905e+00],\n",
       "        [ 1.02611670e+02,  1.46698602e+01],\n",
       "        [-6.30305766e+01,  5.72274414e+00],\n",
       "        [-7.39358463e+01, -2.63341255e+01],\n",
       "        [-3.30406288e+01, -5.01612959e+01],\n",
       "        [-6.80379251e+01, -4.22593929e+01],\n",
       "        [-6.43638002e+01, -1.00885395e+01],\n",
       "        [ 8.53000804e+01,  3.75525618e+01],\n",
       "        [-6.56642604e+01, -2.39495230e+01],\n",
       "        [-6.61840993e+01, -2.44304733e+01],\n",
       "        [-5.03657444e+01, -7.52513118e+00],\n",
       "        [-3.95541082e+00, -2.41971374e+01],\n",
       "        [-6.38956352e+01,  1.29752793e+00]]),\n",
       " 611    1\n",
       " 157    0\n",
       " 200    0\n",
       " 471    0\n",
       " 597    0\n",
       "       ..\n",
       " 211    0\n",
       " 560    1\n",
       " 291    1\n",
       " 84     1\n",
       " 164    1\n",
       " Name: Outcome, Length: 374, dtype: int64,\n",
       " 47     0\n",
       " 302    0\n",
       " 730    1\n",
       " 263    0\n",
       " 91     0\n",
       "       ..\n",
       " 38     1\n",
       " 643    0\n",
       " 572    0\n",
       " 447    0\n",
       " 618    1\n",
       " Name: Outcome, Length: 161, dtype: int64]"
      ]
     },
     "execution_count": 33,
     "metadata": {},
     "output_type": "execute_result"
    }
   ],
   "source": [
    "train_test_split(X_pca, y_train, test_size=0.30, random_state=7)"
   ]
  },
  {
   "cell_type": "code",
   "execution_count": 34,
   "metadata": {},
   "outputs": [],
   "source": [
    "X_train, X_test, y_train, y_test = train_test_split(X_pca, y_train, test_size=0.30, random_state=7)"
   ]
  },
  {
   "cell_type": "code",
   "execution_count": 53,
   "metadata": {},
   "outputs": [
    {
     "data": {
      "text/plain": [
       "0.782608695652174"
      ]
     },
     "execution_count": 53,
     "metadata": {},
     "output_type": "execute_result"
    }
   ],
   "source": [
    "# import random forest classifier\n",
    "from sklearn.ensemble import RandomForestClassifier\n",
    "model = RandomForestClassifier(n_estimators=100, random_state=7, max_depth=5, min_samples_leaf=5, min_samples_split=5)\n",
    "model.fit(X_train, y_train)\n",
    "model.score(X_test, y_test)"
   ]
  },
  {
   "cell_type": "code",
   "execution_count": 36,
   "metadata": {},
   "outputs": [
    {
     "name": "stdout",
     "output_type": "stream",
     "text": [
      "[11:28:22] WARNING: ..\\src\\learner.cc:1061: Starting in XGBoost 1.3.0, the default evaluation metric used with the objective 'binary:logistic' was changed from 'error' to 'logloss'. Explicitly set eval_metric if you'd like to restore the old behavior.\n"
     ]
    },
    {
     "name": "stderr",
     "output_type": "stream",
     "text": [
      "c:\\Users\\HP\\anaconda3\\lib\\site-packages\\xgboost\\sklearn.py:888: UserWarning: The use of label encoder in XGBClassifier is deprecated and will be removed in a future release. To remove this warning, do the following: 1) Pass option use_label_encoder=False when constructing XGBClassifier object; and 2) Encode your labels (y) as integers starting with 0, i.e. 0, 1, 2, ..., [num_class - 1].\n",
      "  warnings.warn(label_encoder_deprecation_msg, UserWarning)\n"
     ]
    },
    {
     "data": {
      "text/plain": [
       "0.6894409937888198"
      ]
     },
     "execution_count": 36,
     "metadata": {},
     "output_type": "execute_result"
    }
   ],
   "source": [
    "# import xgboost classifier\n",
    "from xgboost import XGBClassifier\n",
    "xg = XGBClassifier(n_estimators=100, random_state=7)\n",
    "xg.fit(X_train, y_train)\n",
    "xg.score(X_test, y_test)"
   ]
  },
  {
   "cell_type": "code",
   "execution_count": 44,
   "metadata": {},
   "outputs": [
    {
     "data": {
      "text/plain": [
       "0.6770186335403726"
      ]
     },
     "execution_count": 44,
     "metadata": {},
     "output_type": "execute_result"
    }
   ],
   "source": [
    "# import decision tree classifier\n",
    "from sklearn.tree import DecisionTreeClassifier\n",
    "dc = DecisionTreeClassifier(random_state=10)\n",
    "dc.fit(X_train, y_train)\n",
    "dc.score(X_test, y_test)"
   ]
  },
  {
   "cell_type": "code",
   "execution_count": 49,
   "metadata": {},
   "outputs": [
    {
     "name": "stderr",
     "output_type": "stream",
     "text": [
      "c:\\Users\\HP\\anaconda3\\lib\\site-packages\\sklearn\\linear_model\\_logistic.py:1106: UserWarning: l1_ratio parameter is only used when penalty is 'elasticnet'. Got (penalty=l2)\n",
      "  warnings.warn(\n",
      "[Parallel(n_jobs=-1)]: Using backend LokyBackend with 4 concurrent workers.\n",
      "[Parallel(n_jobs=-1)]: Done   1 out of   1 | elapsed:    1.3s finished\n"
     ]
    },
    {
     "data": {
      "text/plain": [
       "0.7888198757763976"
      ]
     },
     "execution_count": 49,
     "metadata": {},
     "output_type": "execute_result"
    }
   ],
   "source": [
    "# import logistic regression classifier\n",
    "from sklearn.linear_model import LogisticRegression\n",
    "lr = LogisticRegression(random_state=10, max_iter=1000, solver='lbfgs', multi_class='auto', n_jobs=-1, verbose=1, warm_start=True, l1_ratio=0.5)\n",
    "lr.fit(X_train, y_train)\n",
    "lr.score(X_test, y_test)"
   ]
  },
  {
   "cell_type": "code",
   "execution_count": 47,
   "metadata": {},
   "outputs": [
    {
     "data": {
      "text/plain": [
       "0.7080745341614907"
      ]
     },
     "execution_count": 47,
     "metadata": {},
     "output_type": "execute_result"
    }
   ],
   "source": [
    "# import extra tree classifier\n",
    "from sklearn.ensemble import ExtraTreesClassifier\n",
    "et = ExtraTreesClassifier(random_state=10)\n",
    "et = et.fit(X_train, y_train)\n",
    "et.score(X_test, y_test)"
   ]
  },
  {
   "cell_type": "code",
   "execution_count": 55,
   "metadata": {},
   "outputs": [
    {
     "data": {
      "text/plain": [
       "0.7453416149068323"
      ]
     },
     "execution_count": 55,
     "metadata": {},
     "output_type": "execute_result"
    }
   ],
   "source": [
    "# import GradientBoostingClassifier\n",
    "from sklearn.ensemble import GradientBoostingClassifier\n",
    "gb = GradientBoostingClassifier(random_state=10, n_estimators=100, learning_rate=1, max_depth=1, max_features=2, min_samples_leaf=2, min_samples_split=2, subsample=1.0)\n",
    "gb.fit(X_train, y_train)\n",
    "gb.score(X_test, y_test)\n"
   ]
  },
  {
   "cell_type": "code",
   "execution_count": 56,
   "metadata": {},
   "outputs": [
    {
     "data": {
      "text/plain": [
       "0.7267080745341615"
      ]
     },
     "execution_count": 56,
     "metadata": {},
     "output_type": "execute_result"
    }
   ],
   "source": [
    "# import AdaBoostClassifier\n",
    "from sklearn.ensemble import AdaBoostClassifier\n",
    "ada = AdaBoostClassifier(random_state=10, n_estimators=100, learning_rate=1, algorithm='SAMME.R', base_estimator=None,)\n",
    "ada.fit(X_train, y_train)\n",
    "ada.score(X_test, y_test)"
   ]
  },
  {
   "cell_type": "code",
   "execution_count": 57,
   "metadata": {},
   "outputs": [
    {
     "data": {
      "text/plain": [
       "0.7391304347826086"
      ]
     },
     "execution_count": 57,
     "metadata": {},
     "output_type": "execute_result"
    }
   ],
   "source": [
    "# import KNeighborsClassifier\n",
    "from sklearn.neighbors import KNeighborsClassifier\n",
    "kn = KNeighborsClassifier(n_neighbors=5, weights='uniform', algorithm='auto', leaf_size=30, p=2, metric='minkowski', metric_params=None, n_jobs=-1)\n",
    "kn.fit(X_train, y_train)\n",
    "kn.score(X_test, y_test)"
   ]
  },
  {
   "cell_type": "code",
   "execution_count": 61,
   "metadata": {},
   "outputs": [
    {
     "name": "stderr",
     "output_type": "stream",
     "text": [
      "c:\\Users\\HP\\anaconda3\\lib\\site-packages\\sklearn\\linear_model\\_logistic.py:1106: UserWarning: l1_ratio parameter is only used when penalty is 'elasticnet'. Got (penalty=l2)\n",
      "  warnings.warn(\n",
      "[Parallel(n_jobs=-1)]: Using backend LokyBackend with 4 concurrent workers.\n",
      "[Parallel(n_jobs=-1)]: Done   1 out of   1 | elapsed:    0.0s finished\n",
      "c:\\Users\\HP\\anaconda3\\lib\\site-packages\\xgboost\\sklearn.py:888: UserWarning: The use of label encoder in XGBClassifier is deprecated and will be removed in a future release. To remove this warning, do the following: 1) Pass option use_label_encoder=False when constructing XGBClassifier object; and 2) Encode your labels (y) as integers starting with 0, i.e. 0, 1, 2, ..., [num_class - 1].\n",
      "  warnings.warn(label_encoder_deprecation_msg, UserWarning)\n"
     ]
    },
    {
     "name": "stdout",
     "output_type": "stream",
     "text": [
      "[11:51:46] WARNING: ..\\src\\learner.cc:1061: Starting in XGBoost 1.3.0, the default evaluation metric used with the objective 'binary:logistic' was changed from 'error' to 'logloss'. Explicitly set eval_metric if you'd like to restore the old behavior.\n"
     ]
    },
    {
     "name": "stderr",
     "output_type": "stream",
     "text": [
      "c:\\Users\\HP\\anaconda3\\lib\\site-packages\\sklearn\\linear_model\\_logistic.py:1106: UserWarning: l1_ratio parameter is only used when penalty is 'elasticnet'. Got (penalty=l2)\n",
      "  warnings.warn(\n",
      "[Parallel(n_jobs=-1)]: Using backend LokyBackend with 4 concurrent workers.\n",
      "[Parallel(n_jobs=-1)]: Done   1 out of   1 | elapsed:    0.0s finished\n",
      "c:\\Users\\HP\\anaconda3\\lib\\site-packages\\sklearn\\linear_model\\_logistic.py:1106: UserWarning: l1_ratio parameter is only used when penalty is 'elasticnet'. Got (penalty=l2)\n",
      "  warnings.warn(\n",
      "[Parallel(n_jobs=-1)]: Using backend LokyBackend with 4 concurrent workers.\n",
      "[Parallel(n_jobs=-1)]: Done   1 out of   1 | elapsed:    0.0s finished\n",
      "c:\\Users\\HP\\anaconda3\\lib\\site-packages\\sklearn\\linear_model\\_logistic.py:1106: UserWarning: l1_ratio parameter is only used when penalty is 'elasticnet'. Got (penalty=l2)\n",
      "  warnings.warn(\n",
      "[Parallel(n_jobs=-1)]: Using backend LokyBackend with 4 concurrent workers.\n",
      "[Parallel(n_jobs=-1)]: Done   1 out of   1 | elapsed:    0.0s finished\n",
      "c:\\Users\\HP\\anaconda3\\lib\\site-packages\\sklearn\\linear_model\\_logistic.py:1106: UserWarning: l1_ratio parameter is only used when penalty is 'elasticnet'. Got (penalty=l2)\n",
      "  warnings.warn(\n",
      "[Parallel(n_jobs=-1)]: Using backend LokyBackend with 4 concurrent workers.\n",
      "[Parallel(n_jobs=-1)]: Done   1 out of   1 | elapsed:    0.0s finished\n",
      "c:\\Users\\HP\\anaconda3\\lib\\site-packages\\sklearn\\linear_model\\_logistic.py:1106: UserWarning: l1_ratio parameter is only used when penalty is 'elasticnet'. Got (penalty=l2)\n",
      "  warnings.warn(\n",
      "[Parallel(n_jobs=-1)]: Using backend LokyBackend with 4 concurrent workers.\n",
      "[Parallel(n_jobs=-1)]: Done   1 out of   1 | elapsed:    0.0s finished\n",
      "c:\\Users\\HP\\anaconda3\\lib\\site-packages\\xgboost\\sklearn.py:888: UserWarning: The use of label encoder in XGBClassifier is deprecated and will be removed in a future release. To remove this warning, do the following: 1) Pass option use_label_encoder=False when constructing XGBClassifier object; and 2) Encode your labels (y) as integers starting with 0, i.e. 0, 1, 2, ..., [num_class - 1].\n",
      "  warnings.warn(label_encoder_deprecation_msg, UserWarning)\n"
     ]
    },
    {
     "name": "stdout",
     "output_type": "stream",
     "text": [
      "[11:51:46] WARNING: ..\\src\\learner.cc:1061: Starting in XGBoost 1.3.0, the default evaluation metric used with the objective 'binary:logistic' was changed from 'error' to 'logloss'. Explicitly set eval_metric if you'd like to restore the old behavior.\n",
      "[11:51:46] WARNING: ..\\src\\learner.cc:1061: Starting in XGBoost 1.3.0, the default evaluation metric used with the objective 'binary:logistic' was changed from 'error' to 'logloss'. Explicitly set eval_metric if you'd like to restore the old behavior.\n",
      "[11:51:46] WARNING: ..\\src\\learner.cc:1061: Starting in XGBoost 1.3.0, the default evaluation metric used with the objective 'binary:logistic' was changed from 'error' to 'logloss'. Explicitly set eval_metric if you'd like to restore the old behavior.\n",
      "[11:51:47] WARNING: ..\\src\\learner.cc:1061: Starting in XGBoost 1.3.0, the default evaluation metric used with the objective 'binary:logistic' was changed from 'error' to 'logloss'. Explicitly set eval_metric if you'd like to restore the old behavior.\n",
      "[11:51:47] WARNING: ..\\src\\learner.cc:1061: Starting in XGBoost 1.3.0, the default evaluation metric used with the objective 'binary:logistic' was changed from 'error' to 'logloss'. Explicitly set eval_metric if you'd like to restore the old behavior.\n"
     ]
    },
    {
     "data": {
      "text/plain": [
       "0.8074534161490683"
      ]
     },
     "execution_count": 61,
     "metadata": {},
     "output_type": "execute_result"
    }
   ],
   "source": [
    "# import stacking classifier\n",
    "from sklearn.ensemble import StackingClassifier\n",
    "st = StackingClassifier(estimators=[('lr', lr), ('xg', xg),('gb', gb)], final_estimator=RandomForestClassifier(n_estimators=100, random_state=7, max_depth=5, min_samples_leaf=5, min_samples_split=5))\n",
    "st.fit(X_train, y_train)\n",
    "st.score(X_test, y_test)"
   ]
  },
  {
   "cell_type": "code",
   "execution_count": 62,
   "metadata": {},
   "outputs": [
    {
     "data": {
      "text/plain": [
       "0.7701863354037267"
      ]
     },
     "execution_count": 62,
     "metadata": {},
     "output_type": "execute_result"
    }
   ],
   "source": [
    "# import BaggingClassifier\n",
    "from sklearn.ensemble import BaggingClassifier\n",
    "bgc = BaggingClassifier(base_estimator=RandomForestClassifier(n_estimators=100, random_state=7, max_depth=5, min_samples_leaf=5, min_samples_split=5), n_estimators=10, random_state=7)\n",
    "bgc.fit(X_train, y_train)\n",
    "bgc.score(X_test, y_test)"
   ]
  },
  {
   "cell_type": "code",
   "execution_count": null,
   "metadata": {},
   "outputs": [],
   "source": [
    " "
   ]
  },
  {
   "cell_type": "code",
   "execution_count": null,
   "metadata": {},
   "outputs": [],
   "source": []
  },
  {
   "cell_type": "code",
   "execution_count": null,
   "metadata": {},
   "outputs": [],
   "source": []
  },
  {
   "cell_type": "code",
   "execution_count": null,
   "metadata": {},
   "outputs": [],
   "source": []
  },
  {
   "cell_type": "code",
   "execution_count": null,
   "metadata": {},
   "outputs": [],
   "source": []
  },
  {
   "cell_type": "code",
   "execution_count": null,
   "metadata": {},
   "outputs": [],
   "source": []
  }
 ],
 "metadata": {
  "kernelspec": {
   "display_name": "Python 3",
   "language": "python",
   "name": "python3"
  },
  "language_info": {
   "codemirror_mode": {
    "name": "ipython",
    "version": 3
   },
   "file_extension": ".py",
   "mimetype": "text/x-python",
   "name": "python",
   "nbconvert_exporter": "python",
   "pygments_lexer": "ipython3",
   "version": "3.8.8"
  },
  "toc": {
   "base_numbering": 1,
   "nav_menu": {},
   "number_sections": true,
   "sideBar": true,
   "skip_h1_title": false,
   "title_cell": "Table of Contents",
   "title_sidebar": "Contents",
   "toc_cell": false,
   "toc_position": {},
   "toc_section_display": true,
   "toc_window_display": false
  },
  "vscode": {
   "interpreter": {
    "hash": "dc07d24e2f18896857f0b2a651fe84ba40ce7b297e58d8804a308c8039f752a6"
   }
  }
 },
 "nbformat": 4,
 "nbformat_minor": 2
}
